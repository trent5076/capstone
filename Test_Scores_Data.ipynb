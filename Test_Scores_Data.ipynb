{
 "cells": [
  {
   "cell_type": "code",
   "execution_count": 1,
   "metadata": {},
   "outputs": [],
   "source": [
    "### Import the necessary tools and data"
   ]
  },
  {
   "cell_type": "code",
   "execution_count": 2,
   "metadata": {},
   "outputs": [],
   "source": [
    "import pandas as pd\n",
    "import numpy as np\n",
    "import matplotlib.pyplot as plt\n",
    "import sklearn"
   ]
  },
  {
   "cell_type": "code",
   "execution_count": 3,
   "metadata": {},
   "outputs": [],
   "source": [
    "%matplotlib inline"
   ]
  },
  {
   "cell_type": "code",
   "execution_count": 4,
   "metadata": {},
   "outputs": [],
   "source": [
    "test_scores = pd.read_csv(\"Modified Test Scores.csv\")"
   ]
  },
  {
   "cell_type": "code",
   "execution_count": 5,
   "metadata": {},
   "outputs": [],
   "source": [
    "### Remove the 2013 and 2014 years, they don't contain any data"
   ]
  },
  {
   "cell_type": "code",
   "execution_count": 6,
   "metadata": {},
   "outputs": [],
   "source": [
    "test_scores = test_scores.drop(columns=['2013 [YR2013]', '2014 [YR2014]'])"
   ]
  },
  {
   "cell_type": "code",
   "execution_count": 7,
   "metadata": {},
   "outputs": [],
   "source": [
    "### Rename the series codes to be more human friendly"
   ]
  },
  {
   "cell_type": "code",
   "execution_count": 8,
   "metadata": {},
   "outputs": [],
   "source": [
    "test_scores = test_scores.replace(to_replace =\"LO.PISA.MAT\", value =\"Math_All\") "
   ]
  },
  {
   "cell_type": "code",
   "execution_count": 9,
   "metadata": {},
   "outputs": [],
   "source": [
    "test_scores = test_scores.replace(to_replace =\"LO.PISA.MAT.FE\", value =\"Math_Female\")\n",
    "test_scores = test_scores.replace(to_replace =\"LO.PISA.MAT.MA\", value =\"Math_Male\")\n",
    "test_scores = test_scores.replace(to_replace =\"LO.PISA.REA\", value=\"Reading_All\")\n",
    "test_scores = test_scores.replace(to_replace =\"LO.PISA.REA.FE\", value=\"Reading_Female\")\n",
    "test_scores = test_scores.replace(to_replace =\"LO.PISA.REA.MA\", value =\"Reading_Male\")\n",
    "test_scores = test_scores.replace(to_replace =\"LO.PISA.SCI\", value =\"Science_All\")\n",
    "test_scores = test_scores.replace(to_replace =\"LO.PISA.SCI.FE\", value =\"Science_Female\")\n",
    "test_scores = test_scores.replace(to_replace =\"LO.PISA.SCI.MA\", value =\"Science_Male\")"
   ]
  },
  {
   "cell_type": "code",
   "execution_count": 10,
   "metadata": {},
   "outputs": [],
   "source": [
    "### Remove countries with missing data"
   ]
  },
  {
   "cell_type": "code",
   "execution_count": 11,
   "metadata": {},
   "outputs": [],
   "source": [
    "test_scores = test_scores.dropna()"
   ]
  },
  {
   "cell_type": "code",
   "execution_count": 12,
   "metadata": {},
   "outputs": [],
   "source": [
    "test_scores = test_scores.rename(columns={\"2015 [YR2015]\": \"2015_Test_Score\"})"
   ]
  },
  {
   "cell_type": "code",
   "execution_count": 13,
   "metadata": {},
   "outputs": [],
   "source": [
    "### The data had \"..\" instead of blanks, which doesn't read as NaN, so a manual clean up is needed."
   ]
  },
  {
   "cell_type": "code",
   "execution_count": 14,
   "metadata": {},
   "outputs": [],
   "source": [
    "index_values = test_scores[test_scores['2015_Test_Score'] == '..'].index"
   ]
  },
  {
   "cell_type": "code",
   "execution_count": 15,
   "metadata": {},
   "outputs": [],
   "source": [
    "test_scores = test_scores.drop(index_values)"
   ]
  },
  {
   "cell_type": "code",
   "execution_count": 16,
   "metadata": {},
   "outputs": [],
   "source": [
    "### Convert the scores to floats and round them to the nearest whole number"
   ]
  },
  {
   "cell_type": "code",
   "execution_count": 17,
   "metadata": {},
   "outputs": [],
   "source": [
    "test_scores['2015_Test_Score'] = test_scores['2015_Test_Score'].astype(float)"
   ]
  },
  {
   "cell_type": "code",
   "execution_count": 18,
   "metadata": {},
   "outputs": [],
   "source": [
    "test_scores['2015_Test_Score']= test_scores['2015_Test_Score'].round(decimals=0)"
   ]
  },
  {
   "cell_type": "code",
   "execution_count": 19,
   "metadata": {},
   "outputs": [],
   "source": [
    "#test_scores.head()"
   ]
  },
  {
   "cell_type": "code",
   "execution_count": 20,
   "metadata": {},
   "outputs": [],
   "source": [
    "### The series name isn't necessary, let's drop it"
   ]
  },
  {
   "cell_type": "code",
   "execution_count": 21,
   "metadata": {},
   "outputs": [],
   "source": [
    "test_scores = test_scores.drop(columns='Series Name')"
   ]
  },
  {
   "cell_type": "code",
   "execution_count": 22,
   "metadata": {},
   "outputs": [],
   "source": [
    "### Pivot the table to flatten the data. Each country will have its own row with all scores."
   ]
  },
  {
   "cell_type": "code",
   "execution_count": 23,
   "metadata": {},
   "outputs": [],
   "source": [
    "test_scores = test_scores.pivot(index=\"Country Name\", columns ='Series Code', values ='2015_Test_Score')"
   ]
  },
  {
   "cell_type": "code",
   "execution_count": 24,
   "metadata": {},
   "outputs": [],
   "source": [
    "#test_scores.tail()"
   ]
  },
  {
   "cell_type": "code",
   "execution_count": 25,
   "metadata": {},
   "outputs": [],
   "source": [
    "test_scores = test_scores.reset_index()"
   ]
  },
  {
   "cell_type": "code",
   "execution_count": 26,
   "metadata": {},
   "outputs": [],
   "source": [
    "reduced_test_scores = test_scores.drop(columns = ['Math_Female', \n",
    "                                                  'Math_Male', \n",
    "                                                  'Reading_Female', \n",
    "                                                  'Reading_Male', \n",
    "                                                  'Science_Female', \n",
    "                                                  'Science_Male'])"
   ]
  },
  {
   "cell_type": "code",
   "execution_count": 27,
   "metadata": {},
   "outputs": [],
   "source": [
    "#reduced_test_scores.head()"
   ]
  },
  {
   "cell_type": "code",
   "execution_count": 28,
   "metadata": {},
   "outputs": [],
   "source": [
    "#len(reduced_test_scores)"
   ]
  },
  {
   "cell_type": "code",
   "execution_count": 108,
   "metadata": {},
   "outputs": [
    {
     "data": {
      "text/plain": [
       "Ridge()"
      ]
     },
     "execution_count": 108,
     "metadata": {},
     "output_type": "execute_result"
    }
   ],
   "source": [
    "from sklearn.linear_model import Ridge\n",
    "from sklearn.model_selection import train_test_split\n",
    "np.random.seed(42)\n",
    "\n",
    "x = reduced_test_scores.drop(columns = [\"Country Name\", \"Science_All\"])\n",
    "y = reduced_test_scores[\"Science_All\"]\n",
    "x_train, x_test, y_train, y_test = train_test_split(x, y, test_size=0.2)\n",
    "\n",
    "model = Ridge()\n",
    "model.fit(x_train, y_train)\n",
    "#model.score(x_test, y_test)"
   ]
  },
  {
   "cell_type": "code",
   "execution_count": 30,
   "metadata": {},
   "outputs": [],
   "source": [
    "import pickle"
   ]
  },
  {
   "cell_type": "code",
   "execution_count": 31,
   "metadata": {},
   "outputs": [],
   "source": [
    "pickle.dump(model, open(\"ridge_model_1.pkl\", \"wb\"))"
   ]
  },
  {
   "cell_type": "code",
   "execution_count": 32,
   "metadata": {},
   "outputs": [],
   "source": [
    "loaded_model= pickle.load(open(\"ridge_model_1.pkl\", \"rb\"))"
   ]
  },
  {
   "cell_type": "code",
   "execution_count": 33,
   "metadata": {},
   "outputs": [],
   "source": [
    "#loaded_model.score(x_test, y_test)"
   ]
  },
  {
   "cell_type": "code",
   "execution_count": 34,
   "metadata": {},
   "outputs": [],
   "source": [
    "# Load and clean the 2018 data to test the model"
   ]
  },
  {
   "cell_type": "code",
   "execution_count": 35,
   "metadata": {},
   "outputs": [],
   "source": [
    "new_test_scores = pd.read_csv(\"Pisa mean performance scores 2018.csv\")"
   ]
  },
  {
   "cell_type": "code",
   "execution_count": 36,
   "metadata": {},
   "outputs": [],
   "source": [
    "## Add a series code to be consistent with the other data frame"
   ]
  },
  {
   "cell_type": "code",
   "execution_count": 37,
   "metadata": {},
   "outputs": [],
   "source": [
    "new_test_scores['Series_code'] = np.where((new_test_scores[\"INDICATOR\"] == \"PISAREAD\") & (new_test_scores[\"SUBJECT\"] == \"BOY\"), \"Reading_Male\", 0)"
   ]
  },
  {
   "cell_type": "code",
   "execution_count": 38,
   "metadata": {},
   "outputs": [],
   "source": [
    "new_test_scores['Series_code'] = np.where((new_test_scores[\"INDICATOR\"] == \"PISAREAD\") & (new_test_scores[\"SUBJECT\"] == \"GIRL\"), \"Reading_Female\", 0)"
   ]
  },
  {
   "cell_type": "code",
   "execution_count": 39,
   "metadata": {},
   "outputs": [
    {
     "name": "stderr",
     "output_type": "stream",
     "text": [
      "<ipython-input-39-23c9b23863fa>:2: SettingWithCopyWarning: \n",
      "A value is trying to be set on a copy of a slice from a DataFrame\n",
      "\n",
      "See the caveats in the documentation: https://pandas.pydata.org/pandas-docs/stable/user_guide/indexing.html#returning-a-view-versus-a-copy\n",
      "  new_test_scores['Series_code'][mask] = 'Reading_Male'\n"
     ]
    }
   ],
   "source": [
    "mask = (new_test_scores['INDICATOR'] == 'PISAREAD') & (new_test_scores['SUBJECT'] == 'BOY')\n",
    "new_test_scores['Series_code'][mask] = 'Reading_Male'"
   ]
  },
  {
   "cell_type": "code",
   "execution_count": 40,
   "metadata": {},
   "outputs": [
    {
     "name": "stderr",
     "output_type": "stream",
     "text": [
      "<ipython-input-40-f4a14b819735>:2: SettingWithCopyWarning: \n",
      "A value is trying to be set on a copy of a slice from a DataFrame\n",
      "\n",
      "See the caveats in the documentation: https://pandas.pydata.org/pandas-docs/stable/user_guide/indexing.html#returning-a-view-versus-a-copy\n",
      "  new_test_scores['Series_code'][mask] = 'Reading_All'\n"
     ]
    }
   ],
   "source": [
    "mask = (new_test_scores['INDICATOR'] == 'PISAREAD') & (new_test_scores['SUBJECT'] == 'TOT')\n",
    "new_test_scores['Series_code'][mask] = 'Reading_All'"
   ]
  },
  {
   "cell_type": "code",
   "execution_count": 41,
   "metadata": {},
   "outputs": [
    {
     "name": "stderr",
     "output_type": "stream",
     "text": [
      "<ipython-input-41-1c6a8add5cd6>:2: SettingWithCopyWarning: \n",
      "A value is trying to be set on a copy of a slice from a DataFrame\n",
      "\n",
      "See the caveats in the documentation: https://pandas.pydata.org/pandas-docs/stable/user_guide/indexing.html#returning-a-view-versus-a-copy\n",
      "  new_test_scores['Series_code'][mask] = 'Math_Male'\n"
     ]
    }
   ],
   "source": [
    "mask = (new_test_scores['INDICATOR'] == 'PISAMATH') & (new_test_scores['SUBJECT'] == 'BOY')\n",
    "new_test_scores['Series_code'][mask] = 'Math_Male'"
   ]
  },
  {
   "cell_type": "code",
   "execution_count": 42,
   "metadata": {},
   "outputs": [
    {
     "name": "stderr",
     "output_type": "stream",
     "text": [
      "<ipython-input-42-e4806cbf16ba>:2: SettingWithCopyWarning: \n",
      "A value is trying to be set on a copy of a slice from a DataFrame\n",
      "\n",
      "See the caveats in the documentation: https://pandas.pydata.org/pandas-docs/stable/user_guide/indexing.html#returning-a-view-versus-a-copy\n",
      "  new_test_scores['Series_code'][mask] = 'Math_Female'\n"
     ]
    }
   ],
   "source": [
    "mask = (new_test_scores['INDICATOR'] == 'PISAMATH') & (new_test_scores['SUBJECT'] == 'GIRL')\n",
    "new_test_scores['Series_code'][mask] = 'Math_Female'"
   ]
  },
  {
   "cell_type": "code",
   "execution_count": 43,
   "metadata": {},
   "outputs": [
    {
     "name": "stderr",
     "output_type": "stream",
     "text": [
      "<ipython-input-43-6f8bc2412265>:2: SettingWithCopyWarning: \n",
      "A value is trying to be set on a copy of a slice from a DataFrame\n",
      "\n",
      "See the caveats in the documentation: https://pandas.pydata.org/pandas-docs/stable/user_guide/indexing.html#returning-a-view-versus-a-copy\n",
      "  new_test_scores['Series_code'][mask] = 'Math_All'\n"
     ]
    }
   ],
   "source": [
    "mask = (new_test_scores['INDICATOR'] == 'PISAMATH') & (new_test_scores['SUBJECT'] == 'TOT')\n",
    "new_test_scores['Series_code'][mask] = 'Math_All'"
   ]
  },
  {
   "cell_type": "code",
   "execution_count": 44,
   "metadata": {},
   "outputs": [
    {
     "name": "stderr",
     "output_type": "stream",
     "text": [
      "<ipython-input-44-48041bd6dbe1>:2: SettingWithCopyWarning: \n",
      "A value is trying to be set on a copy of a slice from a DataFrame\n",
      "\n",
      "See the caveats in the documentation: https://pandas.pydata.org/pandas-docs/stable/user_guide/indexing.html#returning-a-view-versus-a-copy\n",
      "  new_test_scores['Series_code'][mask] = 'Science_Male'\n"
     ]
    }
   ],
   "source": [
    "mask = (new_test_scores['INDICATOR'] == 'PISASCIENCE') & (new_test_scores['SUBJECT'] == 'BOY')\n",
    "new_test_scores['Series_code'][mask] = 'Science_Male'"
   ]
  },
  {
   "cell_type": "code",
   "execution_count": 45,
   "metadata": {},
   "outputs": [
    {
     "name": "stderr",
     "output_type": "stream",
     "text": [
      "<ipython-input-45-bba188a988ce>:2: SettingWithCopyWarning: \n",
      "A value is trying to be set on a copy of a slice from a DataFrame\n",
      "\n",
      "See the caveats in the documentation: https://pandas.pydata.org/pandas-docs/stable/user_guide/indexing.html#returning-a-view-versus-a-copy\n",
      "  new_test_scores['Series_code'][mask] = 'Science_Female'\n"
     ]
    }
   ],
   "source": [
    "mask = (new_test_scores['INDICATOR'] == 'PISASCIENCE') & (new_test_scores['SUBJECT'] == 'GIRL')\n",
    "new_test_scores['Series_code'][mask] = 'Science_Female'"
   ]
  },
  {
   "cell_type": "code",
   "execution_count": 46,
   "metadata": {},
   "outputs": [
    {
     "name": "stderr",
     "output_type": "stream",
     "text": [
      "<ipython-input-46-66e6c4d36e49>:2: SettingWithCopyWarning: \n",
      "A value is trying to be set on a copy of a slice from a DataFrame\n",
      "\n",
      "See the caveats in the documentation: https://pandas.pydata.org/pandas-docs/stable/user_guide/indexing.html#returning-a-view-versus-a-copy\n",
      "  new_test_scores['Series_code'][mask] = 'Science_All'\n"
     ]
    }
   ],
   "source": [
    "mask = (new_test_scores['INDICATOR'] == 'PISASCIENCE') & (new_test_scores['SUBJECT'] == 'TOT')\n",
    "new_test_scores['Series_code'][mask] = 'Science_All'"
   ]
  },
  {
   "cell_type": "code",
   "execution_count": 47,
   "metadata": {},
   "outputs": [],
   "source": [
    "## Get rid of extra columns"
   ]
  },
  {
   "cell_type": "code",
   "execution_count": 48,
   "metadata": {},
   "outputs": [],
   "source": [
    "new_test_scores = new_test_scores.drop(columns=['INDICATOR', 'SUBJECT', 'MEASURE', 'FREQUENCY'])"
   ]
  },
  {
   "cell_type": "code",
   "execution_count": 49,
   "metadata": {},
   "outputs": [],
   "source": [
    "## Pivot the table to match format of other data frame"
   ]
  },
  {
   "cell_type": "code",
   "execution_count": 50,
   "metadata": {},
   "outputs": [],
   "source": [
    "new_test_scores = new_test_scores.pivot(index='LOCATION', columns ='Series_code', values ='Value')"
   ]
  },
  {
   "cell_type": "code",
   "execution_count": 51,
   "metadata": {},
   "outputs": [],
   "source": [
    "#new_test_scores.head()"
   ]
  },
  {
   "cell_type": "code",
   "execution_count": 52,
   "metadata": {},
   "outputs": [],
   "source": [
    "## Drop countries with any empty values"
   ]
  },
  {
   "cell_type": "code",
   "execution_count": 53,
   "metadata": {},
   "outputs": [],
   "source": [
    "new_test_scores = new_test_scores.dropna()"
   ]
  },
  {
   "cell_type": "code",
   "execution_count": 54,
   "metadata": {},
   "outputs": [],
   "source": [
    "new_test_scores = new_test_scores.reset_index()"
   ]
  },
  {
   "cell_type": "code",
   "execution_count": 55,
   "metadata": {},
   "outputs": [],
   "source": [
    "reduced_new_test_scores = new_test_scores.drop(columns=['Math_Female',\n",
    "                                                      'Math_Male',\n",
    "                                                      'Reading_Female',\n",
    "                                                      'Reading_Male',\n",
    "                                                      'Science_Female',\n",
    "                                                      'Science_Male'])"
   ]
  },
  {
   "cell_type": "code",
   "execution_count": 56,
   "metadata": {},
   "outputs": [],
   "source": [
    "## Test the model trained on 2015 data against the 2018 data"
   ]
  },
  {
   "cell_type": "code",
   "execution_count": 57,
   "metadata": {},
   "outputs": [],
   "source": [
    "np.random.seed(42)\n",
    "\n",
    "p = reduced_new_test_scores.drop(columns = [\"LOCATION\", \"Science_All\"])\n",
    "q = reduced_new_test_scores[\"Science_All\"]\n",
    "\n",
    "\n",
    "#model.score(p, q)"
   ]
  },
  {
   "cell_type": "code",
   "execution_count": 58,
   "metadata": {},
   "outputs": [],
   "source": [
    "y_preds = model.predict(p)"
   ]
  },
  {
   "cell_type": "code",
   "execution_count": 59,
   "metadata": {},
   "outputs": [],
   "source": [
    "from sklearn.metrics import mean_absolute_error\n",
    "#mean_absolute_error(q, y_preds)"
   ]
  },
  {
   "cell_type": "code",
   "execution_count": 60,
   "metadata": {},
   "outputs": [],
   "source": [
    "#model.score(p, q)"
   ]
  },
  {
   "cell_type": "code",
   "execution_count": 61,
   "metadata": {},
   "outputs": [],
   "source": [
    "## Let's examine correlation for the descriptive element of this project"
   ]
  },
  {
   "cell_type": "code",
   "execution_count": 62,
   "metadata": {},
   "outputs": [],
   "source": [
    "#test_scores"
   ]
  },
  {
   "cell_type": "code",
   "execution_count": 63,
   "metadata": {},
   "outputs": [],
   "source": [
    "#test_scores.corr()"
   ]
  },
  {
   "cell_type": "code",
   "execution_count": 64,
   "metadata": {},
   "outputs": [],
   "source": [
    "import matplotlib.pyplot as plt\n",
    "\n",
    "#plt.matshow(test_scores.corr())\n",
    "#plt.show()"
   ]
  },
  {
   "cell_type": "code",
   "execution_count": 65,
   "metadata": {},
   "outputs": [],
   "source": [
    "#reduced_test_scores.corr()"
   ]
  },
  {
   "cell_type": "code",
   "execution_count": 66,
   "metadata": {},
   "outputs": [],
   "source": [
    "#reduced_new_test_scores.corr()"
   ]
  },
  {
   "cell_type": "code",
   "execution_count": 67,
   "metadata": {},
   "outputs": [],
   "source": [
    "from ipywidgets import HBox, VBox, IntSlider, interactive_output\n",
    "from IPython.display import display\n",
    "\n",
    "a = IntSlider()\n",
    "b = IntSlider()\n",
    "\n",
    "def f(a, b):\n",
    "    print(\"{} * {} = {}\".format(a, b, a * b))\n",
    "\n",
    "out = interactive_output(f, { \"a\": a, \"b\": b })\n",
    "\n",
    "#display(HBox([VBox([a, b]), out]))"
   ]
  },
  {
   "cell_type": "code",
   "execution_count": 68,
   "metadata": {},
   "outputs": [],
   "source": [
    "import ipywidgets as widgets\n",
    "from ipywidgets import interact, interactive, fixed, interact_manual"
   ]
  },
  {
   "cell_type": "markdown",
   "metadata": {},
   "source": [
    "# Use these sliders to predict a student's science test score based on their math and reading test scores.\n"
   ]
  },
  {
   "cell_type": "markdown",
   "metadata": {},
   "source": [
    "## All students"
   ]
  },
  {
   "cell_type": "code",
   "execution_count": 69,
   "metadata": {},
   "outputs": [
    {
     "data": {
      "application/vnd.jupyter.widget-view+json": {
       "model_id": "65844f3ef3fa44a58f044f91ab5af2b3",
       "version_major": 2,
       "version_minor": 0
      },
      "text/plain": [
       "HBox(children=(VBox(children=(IntSlider(value=300, description='Math:   ', max=600, min=300), IntSlider(value=…"
      ]
     },
     "metadata": {},
     "output_type": "display_data"
    }
   ],
   "source": [
    "a = widgets.IntSlider(min=300, max=600, description='Math:   ')\n",
    "b = widgets.IntSlider(min=300, max=600, description='Reading:   ')\n",
    "\n",
    "def f(a, b,):\n",
    "    widget_array = [[a, b]]\n",
    "    widget_frame = pd.DataFrame(widget_array)\n",
    "    print('Predicted Science Score: ', loaded_model.predict(widget_frame))\n",
    "\n",
    "out = widgets.interactive_output(f, {'a': a, 'b': b})\n",
    "\n",
    "widgets.HBox([widgets.VBox([a, b]), out])"
   ]
  },
  {
   "cell_type": "code",
   "execution_count": 70,
   "metadata": {},
   "outputs": [],
   "source": [
    "female_test_scores = test_scores.drop(columns=['Country Name',\n",
    "                                              'Math_All',\n",
    "                                              'Math_Male',\n",
    "                                              'Reading_All',\n",
    "                                              'Reading_Male',\n",
    "                                              'Science_All',\n",
    "                                              'Science_Male'])"
   ]
  },
  {
   "cell_type": "code",
   "execution_count": 71,
   "metadata": {},
   "outputs": [
    {
     "data": {
      "text/plain": [
       "Ridge()"
      ]
     },
     "execution_count": 71,
     "metadata": {},
     "output_type": "execute_result"
    }
   ],
   "source": [
    "np.random.seed(42)\n",
    "\n",
    "x = female_test_scores.drop(columns = [\"Science_Female\"])\n",
    "y = female_test_scores[\"Science_Female\"]\n",
    "x_train, x_test, y_train, y_test = train_test_split(x, y, test_size=0.2)\n",
    "\n",
    "female_model = Ridge()\n",
    "female_model.fit(x_train, y_train)\n",
    "#female_model.score(x_test, y_test)"
   ]
  },
  {
   "cell_type": "code",
   "execution_count": 72,
   "metadata": {},
   "outputs": [],
   "source": [
    "male_test_scores = test_scores.drop(columns=['Country Name',\n",
    "                                              'Math_All',\n",
    "                                              'Math_Female',\n",
    "                                              'Reading_All',\n",
    "                                              'Reading_Female',\n",
    "                                              'Science_All',\n",
    "                                              'Science_Female'])"
   ]
  },
  {
   "cell_type": "code",
   "execution_count": 73,
   "metadata": {},
   "outputs": [
    {
     "data": {
      "text/plain": [
       "Ridge()"
      ]
     },
     "execution_count": 73,
     "metadata": {},
     "output_type": "execute_result"
    }
   ],
   "source": [
    "np.random.seed(42)\n",
    "\n",
    "x = male_test_scores.drop(columns = [\"Science_Male\"])\n",
    "y = male_test_scores[\"Science_Male\"]\n",
    "x_train, x_test, y_train, y_test = train_test_split(x, y, test_size=0.2)\n",
    "\n",
    "male_model = Ridge()\n",
    "male_model.fit(x_train, y_train)\n",
    "#male_model.score(x_test, y_test)"
   ]
  },
  {
   "cell_type": "markdown",
   "metadata": {},
   "source": [
    "### Female students"
   ]
  },
  {
   "cell_type": "code",
   "execution_count": 74,
   "metadata": {},
   "outputs": [
    {
     "data": {
      "application/vnd.jupyter.widget-view+json": {
       "model_id": "d028898248e543ee92f637bb37d48336",
       "version_major": 2,
       "version_minor": 0
      },
      "text/plain": [
       "HBox(children=(VBox(children=(IntSlider(value=300, description='Math:   ', max=600, min=300), IntSlider(value=…"
      ]
     },
     "metadata": {},
     "output_type": "display_data"
    }
   ],
   "source": [
    "a2 = widgets.IntSlider(min=300, max=600, description='Math:   ')\n",
    "b2 = widgets.IntSlider(min=300, max=600, description='Reading:   ')\n",
    "\n",
    "def f(a2, b2,):\n",
    "    widget_array = [[a2, b2]]\n",
    "    widget_frame = pd.DataFrame(widget_array)\n",
    "    print('Predicted Female Science Score: ', female_model.predict(widget_frame))\n",
    "\n",
    "out = widgets.interactive_output(f, {'a2': a2, 'b2': b2})\n",
    "\n",
    "widgets.HBox([widgets.VBox([a2, b2]), out])"
   ]
  },
  {
   "cell_type": "markdown",
   "metadata": {},
   "source": [
    "### Male students"
   ]
  },
  {
   "cell_type": "code",
   "execution_count": 75,
   "metadata": {},
   "outputs": [
    {
     "data": {
      "application/vnd.jupyter.widget-view+json": {
       "model_id": "6cfe9877fb224201bf4a66315cc752e8",
       "version_major": 2,
       "version_minor": 0
      },
      "text/plain": [
       "HBox(children=(VBox(children=(IntSlider(value=300, description='Math:   ', max=600, min=300), IntSlider(value=…"
      ]
     },
     "metadata": {},
     "output_type": "display_data"
    }
   ],
   "source": [
    "a3 = widgets.IntSlider(min=300, max=600, description='Math:   ')\n",
    "b3 = widgets.IntSlider(min=300, max=600, description='Reading:   ')\n",
    "\n",
    "def f(a3, b3,):\n",
    "    widget_array = [[a3, b3]]\n",
    "    widget_frame = pd.DataFrame(widget_array)\n",
    "    print('Predicted Male Science Score: ', male_model.predict(widget_frame))\n",
    "\n",
    "out = widgets.interactive_output(f, {'a3': a3, 'b3': b3})\n",
    "\n",
    "widgets.HBox([widgets.VBox([a3, b3]), out])"
   ]
  },
  {
   "cell_type": "markdown",
   "metadata": {},
   "source": [
    "## Correlation between different test scores for female students"
   ]
  },
  {
   "cell_type": "code",
   "execution_count": 76,
   "metadata": {},
   "outputs": [
    {
     "data": {
      "image/png": "[encoded data removed]",
      "text/plain": [
       "<Figure size 432x288 with 2 Axes>"
      ]
     },
     "metadata": {
      "needs_background": "light"
     },
     "output_type": "display_data"
    }
   ],
   "source": [
    "import seaborn as sn\n",
    "import matplotlib.pyplot as plt\n",
    "\n",
    "corrFemale = female_test_scores.corr()\n",
    "sn.heatmap(corrFemale, annot=True)\n",
    "plt.show()"
   ]
  },
  {
   "cell_type": "markdown",
   "metadata": {},
   "source": [
    "## Correlation between different test scores for male students"
   ]
  },
  {
   "cell_type": "code",
   "execution_count": 77,
   "metadata": {},
   "outputs": [
    {
     "data": {
      "image/png": "[encoded data removed]",
      "text/plain": [
       "<Figure size 432x288 with 2 Axes>"
      ]
     },
     "metadata": {
      "needs_background": "light"
     },
     "output_type": "display_data"
    }
   ],
   "source": [
    "corrMale = male_test_scores.corr()\n",
    "sn.heatmap(corrMale, annot=True)\n",
    "plt.show()"
   ]
  },
  {
   "cell_type": "markdown",
   "metadata": {},
   "source": [
    "## Correlation between different test scores for all students"
   ]
  },
  {
   "cell_type": "code",
   "execution_count": 78,
   "metadata": {},
   "outputs": [
    {
     "data": {
      "image/png": "[encoded data removed]",
      "text/plain": [
       "<Figure size 432x288 with 2 Axes>"
      ]
     },
     "metadata": {
      "needs_background": "light"
     },
     "output_type": "display_data"
    }
   ],
   "source": [
    "corrAll = reduced_test_scores.corr()\n",
    "sn.heatmap(corrAll, annot=True)\n",
    "plt.show()"
   ]
  },
  {
   "cell_type": "code",
   "execution_count": 79,
   "metadata": {},
   "outputs": [],
   "source": [
    "#corrMale"
   ]
  },
  {
   "cell_type": "code",
   "execution_count": 80,
   "metadata": {},
   "outputs": [],
   "source": [
    "corrMaleColumns = []\n",
    "for col in corrMale.columns:\n",
    "    corrMaleColumns.append(col)\n",
    "corrMaleIndexes = []\n",
    "for ind in corrMale.index:\n",
    "    corrMaleIndexes.append(ind)"
   ]
  },
  {
   "cell_type": "code",
   "execution_count": 81,
   "metadata": {},
   "outputs": [],
   "source": [
    "corrMaleLabels = []\n",
    "for col in corrMaleColumns:\n",
    "    for ind in corrMaleIndexes:\n",
    "        if col != ind:\n",
    "            newLabel = \"{} x {}\".format(col, ind)\n",
    "            corrMaleLabels.append(newLabel)"
   ]
  },
  {
   "cell_type": "code",
   "execution_count": 82,
   "metadata": {},
   "outputs": [],
   "source": [
    "#corrMaleLabels"
   ]
  },
  {
   "cell_type": "code",
   "execution_count": 83,
   "metadata": {},
   "outputs": [],
   "source": [
    "#for label in corrMaleLabels:\n",
    "   # print(label.split(' x '))\n",
    "    "
   ]
  },
  {
   "cell_type": "code",
   "execution_count": 84,
   "metadata": {},
   "outputs": [],
   "source": [
    "splitCorrMaleLabels = []\n",
    "for label in corrMaleLabels:\n",
    "    item = label.split(' x ')\n",
    "    splitCorrMaleLabels.append(item)\n",
    "    "
   ]
  },
  {
   "cell_type": "code",
   "execution_count": 85,
   "metadata": {},
   "outputs": [],
   "source": [
    "#splitCorrMaleLabels"
   ]
  },
  {
   "cell_type": "code",
   "execution_count": 86,
   "metadata": {},
   "outputs": [],
   "source": [
    "newList = []\n",
    "for q in splitCorrMaleLabels:\n",
    "    khsdf = q[::-1]\n",
    "    newList.append(khsdf)"
   ]
  },
  {
   "cell_type": "code",
   "execution_count": 87,
   "metadata": {},
   "outputs": [],
   "source": [
    "#newList"
   ]
  },
  {
   "cell_type": "code",
   "execution_count": 88,
   "metadata": {},
   "outputs": [],
   "source": [
    "#splitCorrMaleLabels"
   ]
  },
  {
   "cell_type": "code",
   "execution_count": 89,
   "metadata": {},
   "outputs": [],
   "source": [
    "temp_list = []\n",
    "for q in newList:\n",
    "    r = []\n",
    "    r.append(q[1])\n",
    "    r.append(q[0])\n",
    "    #print(r)\n",
    "    if (q not in temp_list) & (r not in temp_list):\n",
    "        temp_list.append(q)"
   ]
  },
  {
   "cell_type": "code",
   "execution_count": 90,
   "metadata": {},
   "outputs": [],
   "source": [
    "#temp_list"
   ]
  },
  {
   "cell_type": "code",
   "execution_count": 91,
   "metadata": {},
   "outputs": [],
   "source": [
    "corrMaleLabels.clear()\n",
    "for q in temp_list:\n",
    "    newItem = \"{} x {}\".format(q[0], q[1])\n",
    "    corrMaleLabels.append(newItem)\n",
    "    "
   ]
  },
  {
   "cell_type": "code",
   "execution_count": 92,
   "metadata": {},
   "outputs": [],
   "source": [
    "#corrMaleLabels"
   ]
  },
  {
   "cell_type": "code",
   "execution_count": 93,
   "metadata": {},
   "outputs": [],
   "source": [
    "#corrMale"
   ]
  },
  {
   "cell_type": "code",
   "execution_count": 94,
   "metadata": {
    "scrolled": true
   },
   "outputs": [],
   "source": [
    "#corrMale.reset_index()"
   ]
  },
  {
   "cell_type": "code",
   "execution_count": 95,
   "metadata": {},
   "outputs": [],
   "source": [
    "corrMale = corrMale.rename_axis(None)"
   ]
  },
  {
   "cell_type": "code",
   "execution_count": 96,
   "metadata": {},
   "outputs": [],
   "source": [
    "#corrMale"
   ]
  },
  {
   "cell_type": "code",
   "execution_count": 97,
   "metadata": {},
   "outputs": [],
   "source": [
    "corrMaleFinalList = {}\n",
    "for q in corrMaleLabels:\n",
    "    r = q.split(' ')[0]\n",
    "    #print(r)\n",
    "    for col in corrMale.columns:\n",
    "        if r == col:\n",
    "            s = corrMale.columns.get_loc(r)\n",
    "            #print(s)\n",
    "    t = q.split(' ')[2]\n",
    "    #print(t)\n",
    "    for ind in corrMale.index:\n",
    "        if t == ind:\n",
    "            u = corrMale.index.get_loc(t)\n",
    "            v = corrMale.iloc[u, s]\n",
    "            \n",
    "            #print(u)\n",
    "    #print(q, corrMale.iloc[u, s])\n",
    "    \n",
    "    \n",
    "    corrMaleFinalList[q] = v\n",
    "    \n",
    "    "
   ]
  },
  {
   "cell_type": "code",
   "execution_count": 98,
   "metadata": {},
   "outputs": [],
   "source": [
    "#corrMaleFinalList"
   ]
  },
  {
   "cell_type": "markdown",
   "metadata": {},
   "source": [
    "## Correlation between different test scores for male students"
   ]
  },
  {
   "cell_type": "code",
   "execution_count": 99,
   "metadata": {},
   "outputs": [
    {
     "data": {
      "image/png": "[encoded data removed]",
      "text/plain": [
       "<Figure size 432x288 with 1 Axes>"
      ]
     },
     "metadata": {
      "needs_background": "light"
     },
     "output_type": "display_data"
    }
   ],
   "source": [
    "fig, ax = plt.subplots()\n",
    "ax.bar(corrMaleFinalList.keys(), height=corrMaleFinalList.values())\n",
    "plt.xticks(rotation=90)\n",
    "plt.ylim(bottom=0.90)\n",
    "plt.ylim(top=1)\n",
    "ax.set_ylabel('Value')\n",
    "ax.set_xlabel('Correlation')\n",
    "\n",
    "plt.show()"
   ]
  },
  {
   "cell_type": "code",
   "execution_count": 100,
   "metadata": {},
   "outputs": [],
   "source": [
    "corrFemaleColumns = []\n",
    "for col in corrFemale.columns:\n",
    "    corrFemaleColumns.append(col)\n",
    "corrFemaleIndexes = []\n",
    "for ind in corrFemale.index:\n",
    "    corrFemaleIndexes.append(ind)\n",
    "    \n",
    "corrFemaleLabels = []\n",
    "for col in corrFemaleColumns:\n",
    "    for ind in corrFemaleIndexes:\n",
    "        if col != ind:\n",
    "            newLabel = \"{} x {}\".format(col, ind)\n",
    "            corrFemaleLabels.append(newLabel)\n",
    "            \n",
    "splitCorrFemaleLabels = []\n",
    "for label in corrFemaleLabels:\n",
    "    item = label.split(' x ')\n",
    "    splitCorrFemaleLabels.append(item)\n",
    "    \n",
    "newList = []\n",
    "for q in splitCorrFemaleLabels:\n",
    "    khsdf = q[::-1]\n",
    "    newList.append(khsdf)\n",
    "    \n",
    "temp_list = []\n",
    "for q in newList:\n",
    "    r = []\n",
    "    r.append(q[1])\n",
    "    r.append(q[0])\n",
    "    #print(r)\n",
    "    if (q not in temp_list) & (r not in temp_list):\n",
    "        temp_list.append(q)\n",
    "        \n",
    "corrFemaleLabels.clear()\n",
    "for q in temp_list:\n",
    "    newItem = \"{} x {}\".format(q[0], q[1])\n",
    "    corrFemaleLabels.append(newItem)\n",
    "    \n",
    "\n",
    "corrFemale.reset_index()\n",
    "corrFemale = corrFemale.rename_axis(None)\n",
    "\n",
    "corrFemaleFinalList = {}\n",
    "for q in corrFemaleLabels:\n",
    "    r = q.split(' ')[0]\n",
    "    #print(r)\n",
    "    for col in corrFemale.columns:\n",
    "        if r == col:\n",
    "            s = corrFemale.columns.get_loc(r)\n",
    "            #print(s)\n",
    "    t = q.split(' ')[2]\n",
    "    #print(t)\n",
    "    for ind in corrFemale.index:\n",
    "        if t == ind:\n",
    "            u = corrFemale.index.get_loc(t)\n",
    "            v = corrFemale.iloc[u, s]\n",
    "            \n",
    "            #print(u)\n",
    "    #print(q, corrMale.iloc[u, s])\n",
    "    \n",
    "    \n",
    "    corrFemaleFinalList[q] = v\n",
    "    \n",
    "    "
   ]
  },
  {
   "cell_type": "code",
   "execution_count": 101,
   "metadata": {},
   "outputs": [],
   "source": [
    "#corrFemaleFinalList"
   ]
  },
  {
   "cell_type": "code",
   "execution_count": 102,
   "metadata": {},
   "outputs": [],
   "source": [
    "#corrFemale"
   ]
  },
  {
   "cell_type": "markdown",
   "metadata": {},
   "source": [
    "## Correlation between different test scores for female students"
   ]
  },
  {
   "cell_type": "code",
   "execution_count": 103,
   "metadata": {},
   "outputs": [
    {
     "data": {
      "image/png": "[encoded data removed]",
      "text/plain": [
       "<Figure size 432x288 with 1 Axes>"
      ]
     },
     "metadata": {
      "needs_background": "light"
     },
     "output_type": "display_data"
    }
   ],
   "source": [
    "fig, ax = plt.subplots()\n",
    "ax.bar(corrFemaleFinalList.keys(), height=corrFemaleFinalList.values())\n",
    "plt.xticks(rotation=90)\n",
    "plt.ylim(bottom=0.90)\n",
    "plt.ylim(top=1)\n",
    "ax.set_ylabel('Value')\n",
    "ax.set_xlabel('Correlation')\n",
    "\n",
    "plt.show()"
   ]
  },
  {
   "cell_type": "code",
   "execution_count": 104,
   "metadata": {},
   "outputs": [],
   "source": [
    "corrAllColumns = []\n",
    "for col in corrAll.columns:\n",
    "    corrAllColumns.append(col)\n",
    "corrAllIndexes = []\n",
    "for ind in corrAll.index:\n",
    "    corrAllIndexes.append(ind)\n",
    "    \n",
    "corrAllLabels = []\n",
    "for col in corrAllColumns:\n",
    "    for ind in corrAllIndexes:\n",
    "        if col != ind:\n",
    "            newLabel = \"{} x {}\".format(col, ind)\n",
    "            corrAllLabels.append(newLabel)\n",
    "            \n",
    "splitCorrAllLabels = []\n",
    "for label in corrAllLabels:\n",
    "    item = label.split(' x ')\n",
    "    splitCorrAllLabels.append(item)\n",
    "    \n",
    "newList = []\n",
    "for q in splitCorrAllLabels:\n",
    "    khsdf = q[::-1]\n",
    "    newList.append(khsdf)\n",
    "    \n",
    "temp_list = []\n",
    "for q in newList:\n",
    "    r = []\n",
    "    r.append(q[1])\n",
    "    r.append(q[0])\n",
    "    #print(r)\n",
    "    if (q not in temp_list) & (r not in temp_list):\n",
    "        temp_list.append(q)\n",
    "        \n",
    "corrAllLabels.clear()\n",
    "for q in temp_list:\n",
    "    newItem = \"{} x {}\".format(q[0], q[1])\n",
    "    corrAllLabels.append(newItem)\n",
    "    \n",
    "\n",
    "corrAll.reset_index()\n",
    "corrAll = corrAll.rename_axis(None)\n",
    "\n",
    "corrAllFinalList = {}\n",
    "for q in corrAllLabels:\n",
    "    r = q.split(' ')[0]\n",
    "    #print(r)\n",
    "    for col in corrAll.columns:\n",
    "        if r == col:\n",
    "            s = corrAll.columns.get_loc(r)\n",
    "            #print(s)\n",
    "    t = q.split(' ')[2]\n",
    "    #print(t)\n",
    "    for ind in corrAll.index:\n",
    "        if t == ind:\n",
    "            u = corrAll.index.get_loc(t)\n",
    "            v = corrAll.iloc[u, s]\n",
    "            \n",
    "            #print(u)\n",
    "    #print(q, corrMale.iloc[u, s])\n",
    "    \n",
    "    \n",
    "    corrAllFinalList[q] = v\n",
    "    "
   ]
  },
  {
   "cell_type": "code",
   "execution_count": 105,
   "metadata": {},
   "outputs": [],
   "source": [
    "#corrAllFinalList"
   ]
  },
  {
   "cell_type": "code",
   "execution_count": 106,
   "metadata": {},
   "outputs": [],
   "source": [
    "#corrAll"
   ]
  },
  {
   "cell_type": "markdown",
   "metadata": {},
   "source": [
    "## Correlation between test scores for all students"
   ]
  },
  {
   "cell_type": "code",
   "execution_count": 107,
   "metadata": {},
   "outputs": [
    {
     "data": {
      "image/png": "[encoded data removed]",
      "text/plain": [
       "<Figure size 432x288 with 1 Axes>"
      ]
     },
     "metadata": {
      "needs_background": "light"
     },
     "output_type": "display_data"
    }
   ],
   "source": [
    "fig, ax = plt.subplots()\n",
    "ax.bar(corrAllFinalList.keys(), height=corrAllFinalList.values())\n",
    "plt.xticks(rotation=90)\n",
    "plt.ylim(bottom=0.90)\n",
    "plt.ylim(top=1)\n",
    "ax.set_ylabel('Value')\n",
    "ax.set_xlabel('Correlation')\n",
    "\n",
    "plt.show()"
   ]
  },
  {
   "cell_type": "markdown",
   "metadata": {},
   "source": [
    "# Report a problem! E-mail example AT nospam DOT COM"
   ]
  }
 ],
 "metadata": {
  "kernelspec": {
   "display_name": "Python 3",
   "language": "python",
   "name": "python3"
  },
  "language_info": {
   "codemirror_mode": {
    "name": "ipython",
    "version": 3
   },
   "file_extension": ".py",
   "mimetype": "text/x-python",
   "name": "python",
   "nbconvert_exporter": "python",
   "pygments_lexer": "ipython3",
   "version": "3.8.5"
  }
 },
 "nbformat": 4,
 "nbformat_minor": 4
}
