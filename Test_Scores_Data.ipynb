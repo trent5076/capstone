{
  "nbformat": 4,
  "nbformat_minor": 0,
  "metadata": {
    "kernelspec": {
      "display_name": "Python 3",
      "language": "python",
      "name": "python3"
    },
    "language_info": {
      "codemirror_mode": {
        "name": "ipython",
        "version": 3
      },
      "file_extension": ".py",
      "mimetype": "text/x-python",
      "name": "python",
      "nbconvert_exporter": "python",
      "pygments_lexer": "ipython3",
      "version": "3.8.5"
    },
    "colab": {
      "name": "Test_Scores_Data.ipynb",
      "provenance": []
    },
    "widgets": {
      "application/vnd.jupyter.widget-state+json": {
        "d1a2d788cc89412baa3bad1ec9cf406d": {
          "model_module": "@jupyter-widgets/controls",
          "model_name": "HBoxModel",
          "state": {
            "_view_name": "HBoxView",
            "_dom_classes": [],
            "_model_name": "HBoxModel",
            "_view_module": "@jupyter-widgets/controls",
            "_model_module_version": "1.5.0",
            "_view_count": null,
            "_view_module_version": "1.5.0",
            "box_style": "",
            "layout": "IPY_MODEL_446573fbfc4d48c5a5bac28d852df475",
            "_model_module": "@jupyter-widgets/controls",
            "children": [
              "IPY_MODEL_3a77b3334c6b4b8190c0e88d7ddf35a5",
              "IPY_MODEL_f3cb6b69c3864b62b5f4dac8db7ba2b4"
            ]
          }
        },
        "446573fbfc4d48c5a5bac28d852df475": {
          "model_module": "@jupyter-widgets/base",
          "model_name": "LayoutModel",
          "state": {
            "_view_name": "LayoutView",
            "grid_template_rows": null,
            "right": null,
            "justify_content": null,
            "_view_module": "@jupyter-widgets/base",
            "overflow": null,
            "_model_module_version": "1.2.0",
            "_view_count": null,
            "flex_flow": null,
            "width": null,
            "min_width": null,
            "border": null,
            "align_items": null,
            "bottom": null,
            "_model_module": "@jupyter-widgets/base",
            "top": null,
            "grid_column": null,
            "overflow_y": null,
            "overflow_x": null,
            "grid_auto_flow": null,
            "grid_area": null,
            "grid_template_columns": null,
            "flex": null,
            "_model_name": "LayoutModel",
            "justify_items": null,
            "grid_row": null,
            "max_height": null,
            "align_content": null,
            "visibility": null,
            "align_self": null,
            "height": null,
            "min_height": null,
            "padding": null,
            "grid_auto_rows": null,
            "grid_gap": null,
            "max_width": null,
            "order": null,
            "_view_module_version": "1.2.0",
            "grid_template_areas": null,
            "object_position": null,
            "object_fit": null,
            "grid_auto_columns": null,
            "margin": null,
            "display": null,
            "left": null
          }
        },
        "3a77b3334c6b4b8190c0e88d7ddf35a5": {
          "model_module": "@jupyter-widgets/controls",
          "model_name": "VBoxModel",
          "state": {
            "_view_name": "VBoxView",
            "_dom_classes": [],
            "_model_name": "VBoxModel",
            "_view_module": "@jupyter-widgets/controls",
            "_model_module_version": "1.5.0",
            "_view_count": null,
            "_view_module_version": "1.5.0",
            "box_style": "",
            "layout": "IPY_MODEL_84dd90f56858484ab95e3074db8adba9",
            "_model_module": "@jupyter-widgets/controls",
            "children": [
              "IPY_MODEL_c07b023f276f4bdba1166f25cd51abc7",
              "IPY_MODEL_541fe91289a345318d0220016d961a02"
            ]
          }
        },
        "f3cb6b69c3864b62b5f4dac8db7ba2b4": {
          "model_module": "@jupyter-widgets/output",
          "model_name": "OutputModel",
          "state": {
            "_view_name": "OutputView",
            "msg_id": "",
            "_dom_classes": [],
            "_model_name": "OutputModel",
            "outputs": [
              {
                "output_type": "stream",
                "metadata": {
                  "tags": []
                },
                "text": "Predicted Science Score:  [316.56110929]\n",
                "stream": "stdout"
              }
            ],
            "_view_module": "@jupyter-widgets/output",
            "_model_module_version": "1.0.0",
            "_view_count": null,
            "_view_module_version": "1.0.0",
            "layout": "IPY_MODEL_510449df8d654880ae4803e8a5c9d126",
            "_model_module": "@jupyter-widgets/output"
          }
        },
        "84dd90f56858484ab95e3074db8adba9": {
          "model_module": "@jupyter-widgets/base",
          "model_name": "LayoutModel",
          "state": {
            "_view_name": "LayoutView",
            "grid_template_rows": null,
            "right": null,
            "justify_content": null,
            "_view_module": "@jupyter-widgets/base",
            "overflow": null,
            "_model_module_version": "1.2.0",
            "_view_count": null,
            "flex_flow": null,
            "width": null,
            "min_width": null,
            "border": null,
            "align_items": null,
            "bottom": null,
            "_model_module": "@jupyter-widgets/base",
            "top": null,
            "grid_column": null,
            "overflow_y": null,
            "overflow_x": null,
            "grid_auto_flow": null,
            "grid_area": null,
            "grid_template_columns": null,
            "flex": null,
            "_model_name": "LayoutModel",
            "justify_items": null,
            "grid_row": null,
            "max_height": null,
            "align_content": null,
            "visibility": null,
            "align_self": null,
            "height": null,
            "min_height": null,
            "padding": null,
            "grid_auto_rows": null,
            "grid_gap": null,
            "max_width": null,
            "order": null,
            "_view_module_version": "1.2.0",
            "grid_template_areas": null,
            "object_position": null,
            "object_fit": null,
            "grid_auto_columns": null,
            "margin": null,
            "display": null,
            "left": null
          }
        },
        "c07b023f276f4bdba1166f25cd51abc7": {
          "model_module": "@jupyter-widgets/controls",
          "model_name": "IntSliderModel",
          "state": {
            "_view_name": "IntSliderView",
            "style": "IPY_MODEL_707364926fb8467ca050820d1653062d",
            "_dom_classes": [],
            "description": "Math:   ",
            "step": 1,
            "_model_name": "IntSliderModel",
            "orientation": "horizontal",
            "max": 600,
            "_view_module": "@jupyter-widgets/controls",
            "_model_module_version": "1.5.0",
            "value": 300,
            "_view_count": null,
            "disabled": false,
            "_view_module_version": "1.5.0",
            "min": 300,
            "continuous_update": true,
            "readout_format": "d",
            "description_tooltip": null,
            "readout": true,
            "_model_module": "@jupyter-widgets/controls",
            "layout": "IPY_MODEL_13d4513a7c694f559d39d0a129bf73f1"
          }
        },
        "541fe91289a345318d0220016d961a02": {
          "model_module": "@jupyter-widgets/controls",
          "model_name": "IntSliderModel",
          "state": {
            "_view_name": "IntSliderView",
            "style": "IPY_MODEL_ea92e8e699494de3881af83636c2cce3",
            "_dom_classes": [],
            "description": "Reading:   ",
            "step": 1,
            "_model_name": "IntSliderModel",
            "orientation": "horizontal",
            "max": 600,
            "_view_module": "@jupyter-widgets/controls",
            "_model_module_version": "1.5.0",
            "value": 300,
            "_view_count": null,
            "disabled": false,
            "_view_module_version": "1.5.0",
            "min": 300,
            "continuous_update": true,
            "readout_format": "d",
            "description_tooltip": null,
            "readout": true,
            "_model_module": "@jupyter-widgets/controls",
            "layout": "IPY_MODEL_699ec1ad28184567a6b0ea4fddd4183a"
          }
        },
        "707364926fb8467ca050820d1653062d": {
          "model_module": "@jupyter-widgets/controls",
          "model_name": "SliderStyleModel",
          "state": {
            "_view_name": "StyleView",
            "handle_color": null,
            "_model_name": "SliderStyleModel",
            "description_width": "",
            "_view_module": "@jupyter-widgets/base",
            "_model_module_version": "1.5.0",
            "_view_count": null,
            "_view_module_version": "1.2.0",
            "_model_module": "@jupyter-widgets/controls"
          }
        },
        "13d4513a7c694f559d39d0a129bf73f1": {
          "model_module": "@jupyter-widgets/base",
          "model_name": "LayoutModel",
          "state": {
            "_view_name": "LayoutView",
            "grid_template_rows": null,
            "right": null,
            "justify_content": null,
            "_view_module": "@jupyter-widgets/base",
            "overflow": null,
            "_model_module_version": "1.2.0",
            "_view_count": null,
            "flex_flow": null,
            "width": null,
            "min_width": null,
            "border": null,
            "align_items": null,
            "bottom": null,
            "_model_module": "@jupyter-widgets/base",
            "top": null,
            "grid_column": null,
            "overflow_y": null,
            "overflow_x": null,
            "grid_auto_flow": null,
            "grid_area": null,
            "grid_template_columns": null,
            "flex": null,
            "_model_name": "LayoutModel",
            "justify_items": null,
            "grid_row": null,
            "max_height": null,
            "align_content": null,
            "visibility": null,
            "align_self": null,
            "height": null,
            "min_height": null,
            "padding": null,
            "grid_auto_rows": null,
            "grid_gap": null,
            "max_width": null,
            "order": null,
            "_view_module_version": "1.2.0",
            "grid_template_areas": null,
            "object_position": null,
            "object_fit": null,
            "grid_auto_columns": null,
            "margin": null,
            "display": null,
            "left": null
          }
        },
        "ea92e8e699494de3881af83636c2cce3": {
          "model_module": "@jupyter-widgets/controls",
          "model_name": "SliderStyleModel",
          "state": {
            "_view_name": "StyleView",
            "handle_color": null,
            "_model_name": "SliderStyleModel",
            "description_width": "",
            "_view_module": "@jupyter-widgets/base",
            "_model_module_version": "1.5.0",
            "_view_count": null,
            "_view_module_version": "1.2.0",
            "_model_module": "@jupyter-widgets/controls"
          }
        },
        "699ec1ad28184567a6b0ea4fddd4183a": {
          "model_module": "@jupyter-widgets/base",
          "model_name": "LayoutModel",
          "state": {
            "_view_name": "LayoutView",
            "grid_template_rows": null,
            "right": null,
            "justify_content": null,
            "_view_module": "@jupyter-widgets/base",
            "overflow": null,
            "_model_module_version": "1.2.0",
            "_view_count": null,
            "flex_flow": null,
            "width": null,
            "min_width": null,
            "border": null,
            "align_items": null,
            "bottom": null,
            "_model_module": "@jupyter-widgets/base",
            "top": null,
            "grid_column": null,
            "overflow_y": null,
            "overflow_x": null,
            "grid_auto_flow": null,
            "grid_area": null,
            "grid_template_columns": null,
            "flex": null,
            "_model_name": "LayoutModel",
            "justify_items": null,
            "grid_row": null,
            "max_height": null,
            "align_content": null,
            "visibility": null,
            "align_self": null,
            "height": null,
            "min_height": null,
            "padding": null,
            "grid_auto_rows": null,
            "grid_gap": null,
            "max_width": null,
            "order": null,
            "_view_module_version": "1.2.0",
            "grid_template_areas": null,
            "object_position": null,
            "object_fit": null,
            "grid_auto_columns": null,
            "margin": null,
            "display": null,
            "left": null
          }
        },
        "510449df8d654880ae4803e8a5c9d126": {
          "model_module": "@jupyter-widgets/base",
          "model_name": "LayoutModel",
          "state": {
            "_view_name": "LayoutView",
            "grid_template_rows": null,
            "right": null,
            "justify_content": null,
            "_view_module": "@jupyter-widgets/base",
            "overflow": null,
            "_model_module_version": "1.2.0",
            "_view_count": null,
            "flex_flow": null,
            "width": null,
            "min_width": null,
            "border": null,
            "align_items": null,
            "bottom": null,
            "_model_module": "@jupyter-widgets/base",
            "top": null,
            "grid_column": null,
            "overflow_y": null,
            "overflow_x": null,
            "grid_auto_flow": null,
            "grid_area": null,
            "grid_template_columns": null,
            "flex": null,
            "_model_name": "LayoutModel",
            "justify_items": null,
            "grid_row": null,
            "max_height": null,
            "align_content": null,
            "visibility": null,
            "align_self": null,
            "height": null,
            "min_height": null,
            "padding": null,
            "grid_auto_rows": null,
            "grid_gap": null,
            "max_width": null,
            "order": null,
            "_view_module_version": "1.2.0",
            "grid_template_areas": null,
            "object_position": null,
            "object_fit": null,
            "grid_auto_columns": null,
            "margin": null,
            "display": null,
            "left": null
          }
        },
        "38c9273bf7aa4924aeb1dadb227cb8e5": {
          "model_module": "@jupyter-widgets/controls",
          "model_name": "HBoxModel",
          "state": {
            "_view_name": "HBoxView",
            "_dom_classes": [],
            "_model_name": "HBoxModel",
            "_view_module": "@jupyter-widgets/controls",
            "_model_module_version": "1.5.0",
            "_view_count": null,
            "_view_module_version": "1.5.0",
            "box_style": "",
            "layout": "IPY_MODEL_125675f5150c4b90a45c931db7a9d4ad",
            "_model_module": "@jupyter-widgets/controls",
            "children": [
              "IPY_MODEL_cf268d78009641b29767ae2c5dec6b0f",
              "IPY_MODEL_59af192f996443c6b0e7240a9637c34b"
            ]
          }
        },
        "125675f5150c4b90a45c931db7a9d4ad": {
          "model_module": "@jupyter-widgets/base",
          "model_name": "LayoutModel",
          "state": {
            "_view_name": "LayoutView",
            "grid_template_rows": null,
            "right": null,
            "justify_content": null,
            "_view_module": "@jupyter-widgets/base",
            "overflow": null,
            "_model_module_version": "1.2.0",
            "_view_count": null,
            "flex_flow": null,
            "width": null,
            "min_width": null,
            "border": null,
            "align_items": null,
            "bottom": null,
            "_model_module": "@jupyter-widgets/base",
            "top": null,
            "grid_column": null,
            "overflow_y": null,
            "overflow_x": null,
            "grid_auto_flow": null,
            "grid_area": null,
            "grid_template_columns": null,
            "flex": null,
            "_model_name": "LayoutModel",
            "justify_items": null,
            "grid_row": null,
            "max_height": null,
            "align_content": null,
            "visibility": null,
            "align_self": null,
            "height": null,
            "min_height": null,
            "padding": null,
            "grid_auto_rows": null,
            "grid_gap": null,
            "max_width": null,
            "order": null,
            "_view_module_version": "1.2.0",
            "grid_template_areas": null,
            "object_position": null,
            "object_fit": null,
            "grid_auto_columns": null,
            "margin": null,
            "display": null,
            "left": null
          }
        },
        "cf268d78009641b29767ae2c5dec6b0f": {
          "model_module": "@jupyter-widgets/controls",
          "model_name": "VBoxModel",
          "state": {
            "_view_name": "VBoxView",
            "_dom_classes": [],
            "_model_name": "VBoxModel",
            "_view_module": "@jupyter-widgets/controls",
            "_model_module_version": "1.5.0",
            "_view_count": null,
            "_view_module_version": "1.5.0",
            "box_style": "",
            "layout": "IPY_MODEL_b7aae25657db4757bfe8b74c088bb409",
            "_model_module": "@jupyter-widgets/controls",
            "children": [
              "IPY_MODEL_b78b2603ee34455981e1b6ad4943a96f",
              "IPY_MODEL_854a3ff24d154e0cad900fb5a9761386"
            ]
          }
        },
        "59af192f996443c6b0e7240a9637c34b": {
          "model_module": "@jupyter-widgets/output",
          "model_name": "OutputModel",
          "state": {
            "_view_name": "OutputView",
            "msg_id": "",
            "_dom_classes": [],
            "_model_name": "OutputModel",
            "outputs": [
              {
                "output_type": "stream",
                "metadata": {
                  "tags": []
                },
                "text": "Predicted Female Science Score:  [316.0684802]\n",
                "stream": "stdout"
              }
            ],
            "_view_module": "@jupyter-widgets/output",
            "_model_module_version": "1.0.0",
            "_view_count": null,
            "_view_module_version": "1.0.0",
            "layout": "IPY_MODEL_037c3300154c4254b0fe3bce880105f6",
            "_model_module": "@jupyter-widgets/output"
          }
        },
        "b7aae25657db4757bfe8b74c088bb409": {
          "model_module": "@jupyter-widgets/base",
          "model_name": "LayoutModel",
          "state": {
            "_view_name": "LayoutView",
            "grid_template_rows": null,
            "right": null,
            "justify_content": null,
            "_view_module": "@jupyter-widgets/base",
            "overflow": null,
            "_model_module_version": "1.2.0",
            "_view_count": null,
            "flex_flow": null,
            "width": null,
            "min_width": null,
            "border": null,
            "align_items": null,
            "bottom": null,
            "_model_module": "@jupyter-widgets/base",
            "top": null,
            "grid_column": null,
            "overflow_y": null,
            "overflow_x": null,
            "grid_auto_flow": null,
            "grid_area": null,
            "grid_template_columns": null,
            "flex": null,
            "_model_name": "LayoutModel",
            "justify_items": null,
            "grid_row": null,
            "max_height": null,
            "align_content": null,
            "visibility": null,
            "align_self": null,
            "height": null,
            "min_height": null,
            "padding": null,
            "grid_auto_rows": null,
            "grid_gap": null,
            "max_width": null,
            "order": null,
            "_view_module_version": "1.2.0",
            "grid_template_areas": null,
            "object_position": null,
            "object_fit": null,
            "grid_auto_columns": null,
            "margin": null,
            "display": null,
            "left": null
          }
        },
        "b78b2603ee34455981e1b6ad4943a96f": {
          "model_module": "@jupyter-widgets/controls",
          "model_name": "IntSliderModel",
          "state": {
            "_view_name": "IntSliderView",
            "style": "IPY_MODEL_765768a9343340beb47a50a120f651f0",
            "_dom_classes": [],
            "description": "Math:   ",
            "step": 1,
            "_model_name": "IntSliderModel",
            "orientation": "horizontal",
            "max": 600,
            "_view_module": "@jupyter-widgets/controls",
            "_model_module_version": "1.5.0",
            "value": 300,
            "_view_count": null,
            "disabled": false,
            "_view_module_version": "1.5.0",
            "min": 300,
            "continuous_update": true,
            "readout_format": "d",
            "description_tooltip": null,
            "readout": true,
            "_model_module": "@jupyter-widgets/controls",
            "layout": "IPY_MODEL_37b04858156d45938c660b3c30c72010"
          }
        },
        "854a3ff24d154e0cad900fb5a9761386": {
          "model_module": "@jupyter-widgets/controls",
          "model_name": "IntSliderModel",
          "state": {
            "_view_name": "IntSliderView",
            "style": "IPY_MODEL_cfc2b1b47a4040cd9fce4e30c0aa376a",
            "_dom_classes": [],
            "description": "Reading:   ",
            "step": 1,
            "_model_name": "IntSliderModel",
            "orientation": "horizontal",
            "max": 600,
            "_view_module": "@jupyter-widgets/controls",
            "_model_module_version": "1.5.0",
            "value": 300,
            "_view_count": null,
            "disabled": false,
            "_view_module_version": "1.5.0",
            "min": 300,
            "continuous_update": true,
            "readout_format": "d",
            "description_tooltip": null,
            "readout": true,
            "_model_module": "@jupyter-widgets/controls",
            "layout": "IPY_MODEL_5b06de75cd92457ca91e6b95a9e52142"
          }
        },
        "765768a9343340beb47a50a120f651f0": {
          "model_module": "@jupyter-widgets/controls",
          "model_name": "SliderStyleModel",
          "state": {
            "_view_name": "StyleView",
            "handle_color": null,
            "_model_name": "SliderStyleModel",
            "description_width": "",
            "_view_module": "@jupyter-widgets/base",
            "_model_module_version": "1.5.0",
            "_view_count": null,
            "_view_module_version": "1.2.0",
            "_model_module": "@jupyter-widgets/controls"
          }
        },
        "37b04858156d45938c660b3c30c72010": {
          "model_module": "@jupyter-widgets/base",
          "model_name": "LayoutModel",
          "state": {
            "_view_name": "LayoutView",
            "grid_template_rows": null,
            "right": null,
            "justify_content": null,
            "_view_module": "@jupyter-widgets/base",
            "overflow": null,
            "_model_module_version": "1.2.0",
            "_view_count": null,
            "flex_flow": null,
            "width": null,
            "min_width": null,
            "border": null,
            "align_items": null,
            "bottom": null,
            "_model_module": "@jupyter-widgets/base",
            "top": null,
            "grid_column": null,
            "overflow_y": null,
            "overflow_x": null,
            "grid_auto_flow": null,
            "grid_area": null,
            "grid_template_columns": null,
            "flex": null,
            "_model_name": "LayoutModel",
            "justify_items": null,
            "grid_row": null,
            "max_height": null,
            "align_content": null,
            "visibility": null,
            "align_self": null,
            "height": null,
            "min_height": null,
            "padding": null,
            "grid_auto_rows": null,
            "grid_gap": null,
            "max_width": null,
            "order": null,
            "_view_module_version": "1.2.0",
            "grid_template_areas": null,
            "object_position": null,
            "object_fit": null,
            "grid_auto_columns": null,
            "margin": null,
            "display": null,
            "left": null
          }
        },
        "cfc2b1b47a4040cd9fce4e30c0aa376a": {
          "model_module": "@jupyter-widgets/controls",
          "model_name": "SliderStyleModel",
          "state": {
            "_view_name": "StyleView",
            "handle_color": null,
            "_model_name": "SliderStyleModel",
            "description_width": "",
            "_view_module": "@jupyter-widgets/base",
            "_model_module_version": "1.5.0",
            "_view_count": null,
            "_view_module_version": "1.2.0",
            "_model_module": "@jupyter-widgets/controls"
          }
        },
        "5b06de75cd92457ca91e6b95a9e52142": {
          "model_module": "@jupyter-widgets/base",
          "model_name": "LayoutModel",
          "state": {
            "_view_name": "LayoutView",
            "grid_template_rows": null,
            "right": null,
            "justify_content": null,
            "_view_module": "@jupyter-widgets/base",
            "overflow": null,
            "_model_module_version": "1.2.0",
            "_view_count": null,
            "flex_flow": null,
            "width": null,
            "min_width": null,
            "border": null,
            "align_items": null,
            "bottom": null,
            "_model_module": "@jupyter-widgets/base",
            "top": null,
            "grid_column": null,
            "overflow_y": null,
            "overflow_x": null,
            "grid_auto_flow": null,
            "grid_area": null,
            "grid_template_columns": null,
            "flex": null,
            "_model_name": "LayoutModel",
            "justify_items": null,
            "grid_row": null,
            "max_height": null,
            "align_content": null,
            "visibility": null,
            "align_self": null,
            "height": null,
            "min_height": null,
            "padding": null,
            "grid_auto_rows": null,
            "grid_gap": null,
            "max_width": null,
            "order": null,
            "_view_module_version": "1.2.0",
            "grid_template_areas": null,
            "object_position": null,
            "object_fit": null,
            "grid_auto_columns": null,
            "margin": null,
            "display": null,
            "left": null
          }
        },
        "037c3300154c4254b0fe3bce880105f6": {
          "model_module": "@jupyter-widgets/base",
          "model_name": "LayoutModel",
          "state": {
            "_view_name": "LayoutView",
            "grid_template_rows": null,
            "right": null,
            "justify_content": null,
            "_view_module": "@jupyter-widgets/base",
            "overflow": null,
            "_model_module_version": "1.2.0",
            "_view_count": null,
            "flex_flow": null,
            "width": null,
            "min_width": null,
            "border": null,
            "align_items": null,
            "bottom": null,
            "_model_module": "@jupyter-widgets/base",
            "top": null,
            "grid_column": null,
            "overflow_y": null,
            "overflow_x": null,
            "grid_auto_flow": null,
            "grid_area": null,
            "grid_template_columns": null,
            "flex": null,
            "_model_name": "LayoutModel",
            "justify_items": null,
            "grid_row": null,
            "max_height": null,
            "align_content": null,
            "visibility": null,
            "align_self": null,
            "height": null,
            "min_height": null,
            "padding": null,
            "grid_auto_rows": null,
            "grid_gap": null,
            "max_width": null,
            "order": null,
            "_view_module_version": "1.2.0",
            "grid_template_areas": null,
            "object_position": null,
            "object_fit": null,
            "grid_auto_columns": null,
            "margin": null,
            "display": null,
            "left": null
          }
        },
        "ee54634f17be489988c0592eeaa79330": {
          "model_module": "@jupyter-widgets/controls",
          "model_name": "HBoxModel",
          "state": {
            "_view_name": "HBoxView",
            "_dom_classes": [],
            "_model_name": "HBoxModel",
            "_view_module": "@jupyter-widgets/controls",
            "_model_module_version": "1.5.0",
            "_view_count": null,
            "_view_module_version": "1.5.0",
            "box_style": "",
            "layout": "IPY_MODEL_e241067ce14046bb9b71960bcb9c2760",
            "_model_module": "@jupyter-widgets/controls",
            "children": [
              "IPY_MODEL_2a9a81a668a546159120c332c6b5e715",
              "IPY_MODEL_607f2be7a42846bbaeb93a00e5a67176"
            ]
          }
        },
        "e241067ce14046bb9b71960bcb9c2760": {
          "model_module": "@jupyter-widgets/base",
          "model_name": "LayoutModel",
          "state": {
            "_view_name": "LayoutView",
            "grid_template_rows": null,
            "right": null,
            "justify_content": null,
            "_view_module": "@jupyter-widgets/base",
            "overflow": null,
            "_model_module_version": "1.2.0",
            "_view_count": null,
            "flex_flow": null,
            "width": null,
            "min_width": null,
            "border": null,
            "align_items": null,
            "bottom": null,
            "_model_module": "@jupyter-widgets/base",
            "top": null,
            "grid_column": null,
            "overflow_y": null,
            "overflow_x": null,
            "grid_auto_flow": null,
            "grid_area": null,
            "grid_template_columns": null,
            "flex": null,
            "_model_name": "LayoutModel",
            "justify_items": null,
            "grid_row": null,
            "max_height": null,
            "align_content": null,
            "visibility": null,
            "align_self": null,
            "height": null,
            "min_height": null,
            "padding": null,
            "grid_auto_rows": null,
            "grid_gap": null,
            "max_width": null,
            "order": null,
            "_view_module_version": "1.2.0",
            "grid_template_areas": null,
            "object_position": null,
            "object_fit": null,
            "grid_auto_columns": null,
            "margin": null,
            "display": null,
            "left": null
          }
        },
        "2a9a81a668a546159120c332c6b5e715": {
          "model_module": "@jupyter-widgets/controls",
          "model_name": "VBoxModel",
          "state": {
            "_view_name": "VBoxView",
            "_dom_classes": [],
            "_model_name": "VBoxModel",
            "_view_module": "@jupyter-widgets/controls",
            "_model_module_version": "1.5.0",
            "_view_count": null,
            "_view_module_version": "1.5.0",
            "box_style": "",
            "layout": "IPY_MODEL_037c3fd0dd2948a2897faa5e20469bb6",
            "_model_module": "@jupyter-widgets/controls",
            "children": [
              "IPY_MODEL_e50e872721d14d30a33d7c3be38809fb",
              "IPY_MODEL_8a86994ce26d446796d7ff2406daed48"
            ]
          }
        },
        "607f2be7a42846bbaeb93a00e5a67176": {
          "model_module": "@jupyter-widgets/output",
          "model_name": "OutputModel",
          "state": {
            "_view_name": "OutputView",
            "msg_id": "",
            "_dom_classes": [],
            "_model_name": "OutputModel",
            "outputs": [
              {
                "output_type": "stream",
                "metadata": {
                  "tags": []
                },
                "text": "Predicted Male Science Score:  [318.00776016]\n",
                "stream": "stdout"
              }
            ],
            "_view_module": "@jupyter-widgets/output",
            "_model_module_version": "1.0.0",
            "_view_count": null,
            "_view_module_version": "1.0.0",
            "layout": "IPY_MODEL_c5a226474c6e4e4e906d62345247bd9e",
            "_model_module": "@jupyter-widgets/output"
          }
        },
        "037c3fd0dd2948a2897faa5e20469bb6": {
          "model_module": "@jupyter-widgets/base",
          "model_name": "LayoutModel",
          "state": {
            "_view_name": "LayoutView",
            "grid_template_rows": null,
            "right": null,
            "justify_content": null,
            "_view_module": "@jupyter-widgets/base",
            "overflow": null,
            "_model_module_version": "1.2.0",
            "_view_count": null,
            "flex_flow": null,
            "width": null,
            "min_width": null,
            "border": null,
            "align_items": null,
            "bottom": null,
            "_model_module": "@jupyter-widgets/base",
            "top": null,
            "grid_column": null,
            "overflow_y": null,
            "overflow_x": null,
            "grid_auto_flow": null,
            "grid_area": null,
            "grid_template_columns": null,
            "flex": null,
            "_model_name": "LayoutModel",
            "justify_items": null,
            "grid_row": null,
            "max_height": null,
            "align_content": null,
            "visibility": null,
            "align_self": null,
            "height": null,
            "min_height": null,
            "padding": null,
            "grid_auto_rows": null,
            "grid_gap": null,
            "max_width": null,
            "order": null,
            "_view_module_version": "1.2.0",
            "grid_template_areas": null,
            "object_position": null,
            "object_fit": null,
            "grid_auto_columns": null,
            "margin": null,
            "display": null,
            "left": null
          }
        },
        "e50e872721d14d30a33d7c3be38809fb": {
          "model_module": "@jupyter-widgets/controls",
          "model_name": "IntSliderModel",
          "state": {
            "_view_name": "IntSliderView",
            "style": "IPY_MODEL_fec13bf9acfd48c88f00873d313e1780",
            "_dom_classes": [],
            "description": "Math:   ",
            "step": 1,
            "_model_name": "IntSliderModel",
            "orientation": "horizontal",
            "max": 600,
            "_view_module": "@jupyter-widgets/controls",
            "_model_module_version": "1.5.0",
            "value": 300,
            "_view_count": null,
            "disabled": false,
            "_view_module_version": "1.5.0",
            "min": 300,
            "continuous_update": true,
            "readout_format": "d",
            "description_tooltip": null,
            "readout": true,
            "_model_module": "@jupyter-widgets/controls",
            "layout": "IPY_MODEL_7125a1822b274ebc9b9d398bdb444623"
          }
        },
        "8a86994ce26d446796d7ff2406daed48": {
          "model_module": "@jupyter-widgets/controls",
          "model_name": "IntSliderModel",
          "state": {
            "_view_name": "IntSliderView",
            "style": "IPY_MODEL_17ca04b2106d43779371ec820c53237b",
            "_dom_classes": [],
            "description": "Reading:   ",
            "step": 1,
            "_model_name": "IntSliderModel",
            "orientation": "horizontal",
            "max": 600,
            "_view_module": "@jupyter-widgets/controls",
            "_model_module_version": "1.5.0",
            "value": 300,
            "_view_count": null,
            "disabled": false,
            "_view_module_version": "1.5.0",
            "min": 300,
            "continuous_update": true,
            "readout_format": "d",
            "description_tooltip": null,
            "readout": true,
            "_model_module": "@jupyter-widgets/controls",
            "layout": "IPY_MODEL_053e138f2d0242e29178de708346ffb3"
          }
        },
        "fec13bf9acfd48c88f00873d313e1780": {
          "model_module": "@jupyter-widgets/controls",
          "model_name": "SliderStyleModel",
          "state": {
            "_view_name": "StyleView",
            "handle_color": null,
            "_model_name": "SliderStyleModel",
            "description_width": "",
            "_view_module": "@jupyter-widgets/base",
            "_model_module_version": "1.5.0",
            "_view_count": null,
            "_view_module_version": "1.2.0",
            "_model_module": "@jupyter-widgets/controls"
          }
        },
        "7125a1822b274ebc9b9d398bdb444623": {
          "model_module": "@jupyter-widgets/base",
          "model_name": "LayoutModel",
          "state": {
            "_view_name": "LayoutView",
            "grid_template_rows": null,
            "right": null,
            "justify_content": null,
            "_view_module": "@jupyter-widgets/base",
            "overflow": null,
            "_model_module_version": "1.2.0",
            "_view_count": null,
            "flex_flow": null,
            "width": null,
            "min_width": null,
            "border": null,
            "align_items": null,
            "bottom": null,
            "_model_module": "@jupyter-widgets/base",
            "top": null,
            "grid_column": null,
            "overflow_y": null,
            "overflow_x": null,
            "grid_auto_flow": null,
            "grid_area": null,
            "grid_template_columns": null,
            "flex": null,
            "_model_name": "LayoutModel",
            "justify_items": null,
            "grid_row": null,
            "max_height": null,
            "align_content": null,
            "visibility": null,
            "align_self": null,
            "height": null,
            "min_height": null,
            "padding": null,
            "grid_auto_rows": null,
            "grid_gap": null,
            "max_width": null,
            "order": null,
            "_view_module_version": "1.2.0",
            "grid_template_areas": null,
            "object_position": null,
            "object_fit": null,
            "grid_auto_columns": null,
            "margin": null,
            "display": null,
            "left": null
          }
        },
        "17ca04b2106d43779371ec820c53237b": {
          "model_module": "@jupyter-widgets/controls",
          "model_name": "SliderStyleModel",
          "state": {
            "_view_name": "StyleView",
            "handle_color": null,
            "_model_name": "SliderStyleModel",
            "description_width": "",
            "_view_module": "@jupyter-widgets/base",
            "_model_module_version": "1.5.0",
            "_view_count": null,
            "_view_module_version": "1.2.0",
            "_model_module": "@jupyter-widgets/controls"
          }
        },
        "053e138f2d0242e29178de708346ffb3": {
          "model_module": "@jupyter-widgets/base",
          "model_name": "LayoutModel",
          "state": {
            "_view_name": "LayoutView",
            "grid_template_rows": null,
            "right": null,
            "justify_content": null,
            "_view_module": "@jupyter-widgets/base",
            "overflow": null,
            "_model_module_version": "1.2.0",
            "_view_count": null,
            "flex_flow": null,
            "width": null,
            "min_width": null,
            "border": null,
            "align_items": null,
            "bottom": null,
            "_model_module": "@jupyter-widgets/base",
            "top": null,
            "grid_column": null,
            "overflow_y": null,
            "overflow_x": null,
            "grid_auto_flow": null,
            "grid_area": null,
            "grid_template_columns": null,
            "flex": null,
            "_model_name": "LayoutModel",
            "justify_items": null,
            "grid_row": null,
            "max_height": null,
            "align_content": null,
            "visibility": null,
            "align_self": null,
            "height": null,
            "min_height": null,
            "padding": null,
            "grid_auto_rows": null,
            "grid_gap": null,
            "max_width": null,
            "order": null,
            "_view_module_version": "1.2.0",
            "grid_template_areas": null,
            "object_position": null,
            "object_fit": null,
            "grid_auto_columns": null,
            "margin": null,
            "display": null,
            "left": null
          }
        },
        "c5a226474c6e4e4e906d62345247bd9e": {
          "model_module": "@jupyter-widgets/base",
          "model_name": "LayoutModel",
          "state": {
            "_view_name": "LayoutView",
            "grid_template_rows": null,
            "right": null,
            "justify_content": null,
            "_view_module": "@jupyter-widgets/base",
            "overflow": null,
            "_model_module_version": "1.2.0",
            "_view_count": null,
            "flex_flow": null,
            "width": null,
            "min_width": null,
            "border": null,
            "align_items": null,
            "bottom": null,
            "_model_module": "@jupyter-widgets/base",
            "top": null,
            "grid_column": null,
            "overflow_y": null,
            "overflow_x": null,
            "grid_auto_flow": null,
            "grid_area": null,
            "grid_template_columns": null,
            "flex": null,
            "_model_name": "LayoutModel",
            "justify_items": null,
            "grid_row": null,
            "max_height": null,
            "align_content": null,
            "visibility": null,
            "align_self": null,
            "height": null,
            "min_height": null,
            "padding": null,
            "grid_auto_rows": null,
            "grid_gap": null,
            "max_width": null,
            "order": null,
            "_view_module_version": "1.2.0",
            "grid_template_areas": null,
            "object_position": null,
            "object_fit": null,
            "grid_auto_columns": null,
            "margin": null,
            "display": null,
            "left": null
          }
        }
      }
    }
  },
  "cells": [
    {
      "cell_type": "markdown",
      "metadata": {
        "id": "XIDDGU_Z39tu"
      },
      "source": [
        "Report any problems to NOSPAM AT EXAMPLE DOT COM"
      ]
    },
    {
      "cell_type": "code",
      "metadata": {
        "id": "xSCzFfddpMv-"
      },
      "source": [
        "### Import the necessary tools and data"
      ],
      "execution_count": null,
      "outputs": []
    },
    {
      "cell_type": "code",
      "metadata": {
        "cellView": "form",
        "id": "lP5D6SV-pMv_"
      },
      "source": [
        "#@title\n",
        "import pandas as pd\n",
        "import numpy as np\n",
        "import matplotlib.pyplot as plt\n",
        "import sklearn"
      ],
      "execution_count": null,
      "outputs": []
    },
    {
      "cell_type": "code",
      "metadata": {
        "cellView": "form",
        "id": "E-wjSbfkpMwA"
      },
      "source": [
        "#@title\r\n",
        "%matplotlib inline"
      ],
      "execution_count": null,
      "outputs": []
    },
    {
      "cell_type": "code",
      "metadata": {
        "id": "asjNCD2lpMwB"
      },
      "source": [
        "url = 'https://raw.githubusercontent.com/trent5076/capstone/main/Modified%20Test%20Scores.csv'\r\n",
        "test_scores = pd.read_csv(url)"
      ],
      "execution_count": null,
      "outputs": []
    },
    {
      "cell_type": "code",
      "metadata": {
        "id": "qPaFgEClpMwB"
      },
      "source": [
        "### Remove the 2013 and 2014 years, they don't contain any data"
      ],
      "execution_count": null,
      "outputs": []
    },
    {
      "cell_type": "code",
      "metadata": {
        "id": "0ka4dQOopMwB"
      },
      "source": [
        "test_scores = test_scores.drop(columns=['2013 [YR2013]', '2014 [YR2014]'])"
      ],
      "execution_count": null,
      "outputs": []
    },
    {
      "cell_type": "code",
      "metadata": {
        "id": "fwbabCGppMwB"
      },
      "source": [
        "### Rename the series codes to be more human friendly"
      ],
      "execution_count": null,
      "outputs": []
    },
    {
      "cell_type": "code",
      "metadata": {
        "id": "GhiWqlmQpMwC"
      },
      "source": [
        "test_scores = test_scores.replace(to_replace =\"LO.PISA.MAT\", value =\"Math_All\") "
      ],
      "execution_count": null,
      "outputs": []
    },
    {
      "cell_type": "code",
      "metadata": {
        "id": "f9jZLRPBpMwC"
      },
      "source": [
        "test_scores = test_scores.replace(to_replace =\"LO.PISA.MAT.FE\", value =\"Math_Female\")\n",
        "test_scores = test_scores.replace(to_replace =\"LO.PISA.MAT.MA\", value =\"Math_Male\")\n",
        "test_scores = test_scores.replace(to_replace =\"LO.PISA.REA\", value=\"Reading_All\")\n",
        "test_scores = test_scores.replace(to_replace =\"LO.PISA.REA.FE\", value=\"Reading_Female\")\n",
        "test_scores = test_scores.replace(to_replace =\"LO.PISA.REA.MA\", value =\"Reading_Male\")\n",
        "test_scores = test_scores.replace(to_replace =\"LO.PISA.SCI\", value =\"Science_All\")\n",
        "test_scores = test_scores.replace(to_replace =\"LO.PISA.SCI.FE\", value =\"Science_Female\")\n",
        "test_scores = test_scores.replace(to_replace =\"LO.PISA.SCI.MA\", value =\"Science_Male\")"
      ],
      "execution_count": null,
      "outputs": []
    },
    {
      "cell_type": "code",
      "metadata": {
        "id": "Nn51MGKCpMwC"
      },
      "source": [
        "### Remove countries with missing data"
      ],
      "execution_count": null,
      "outputs": []
    },
    {
      "cell_type": "code",
      "metadata": {
        "id": "buqcUVy7pMwC"
      },
      "source": [
        "test_scores = test_scores.dropna()"
      ],
      "execution_count": null,
      "outputs": []
    },
    {
      "cell_type": "code",
      "metadata": {
        "id": "9HF3wkg0pMwD"
      },
      "source": [
        "test_scores = test_scores.rename(columns={\"2015 [YR2015]\": \"2015_Test_Score\"})"
      ],
      "execution_count": null,
      "outputs": []
    },
    {
      "cell_type": "code",
      "metadata": {
        "id": "W4v1t-80pMwD"
      },
      "source": [
        "### The data had \"..\" instead of blanks, which doesn't read as NaN, so a manual clean up is needed."
      ],
      "execution_count": null,
      "outputs": []
    },
    {
      "cell_type": "code",
      "metadata": {
        "id": "vf5Lvf0ypMwD"
      },
      "source": [
        "index_values = test_scores[test_scores['2015_Test_Score'] == '..'].index"
      ],
      "execution_count": null,
      "outputs": []
    },
    {
      "cell_type": "code",
      "metadata": {
        "id": "Dh-GP5WwpMwD"
      },
      "source": [
        "test_scores = test_scores.drop(index_values)"
      ],
      "execution_count": null,
      "outputs": []
    },
    {
      "cell_type": "code",
      "metadata": {
        "id": "xgt2GYRUpMwD"
      },
      "source": [
        "### Convert the scores to floats and round them to the nearest whole number"
      ],
      "execution_count": null,
      "outputs": []
    },
    {
      "cell_type": "code",
      "metadata": {
        "id": "2RFvSNavpMwE"
      },
      "source": [
        "test_scores['2015_Test_Score'] = test_scores['2015_Test_Score'].astype(float)"
      ],
      "execution_count": null,
      "outputs": []
    },
    {
      "cell_type": "code",
      "metadata": {
        "id": "7WzQSNnfpMwE"
      },
      "source": [
        "test_scores['2015_Test_Score']= test_scores['2015_Test_Score'].round(decimals=0)"
      ],
      "execution_count": null,
      "outputs": []
    },
    {
      "cell_type": "code",
      "metadata": {
        "id": "cW7VDpW3pMwE"
      },
      "source": [
        "#test_scores.head()"
      ],
      "execution_count": null,
      "outputs": []
    },
    {
      "cell_type": "code",
      "metadata": {
        "id": "9HZiOt8upMwF"
      },
      "source": [
        "### The series name isn't necessary, let's drop it"
      ],
      "execution_count": null,
      "outputs": []
    },
    {
      "cell_type": "code",
      "metadata": {
        "id": "nskFfbM-pMwF"
      },
      "source": [
        "test_scores = test_scores.drop(columns='Series Name')"
      ],
      "execution_count": null,
      "outputs": []
    },
    {
      "cell_type": "code",
      "metadata": {
        "id": "pBOnOj6opMwF"
      },
      "source": [
        "### Pivot the table to flatten the data. Each country will have its own row with all scores."
      ],
      "execution_count": null,
      "outputs": []
    },
    {
      "cell_type": "code",
      "metadata": {
        "id": "BS-6wEb2pMwF"
      },
      "source": [
        "test_scores = test_scores.pivot(index=\"Country Name\", columns ='Series Code', values ='2015_Test_Score')"
      ],
      "execution_count": null,
      "outputs": []
    },
    {
      "cell_type": "code",
      "metadata": {
        "id": "7iSrTNhPpMwG"
      },
      "source": [
        "#test_scores.tail()"
      ],
      "execution_count": null,
      "outputs": []
    },
    {
      "cell_type": "code",
      "metadata": {
        "id": "6W2xEsRCpMwG"
      },
      "source": [
        "test_scores = test_scores.reset_index()"
      ],
      "execution_count": null,
      "outputs": []
    },
    {
      "cell_type": "code",
      "metadata": {
        "id": "KLTVhLBmpMwG"
      },
      "source": [
        "reduced_test_scores = test_scores.drop(columns = ['Math_Female', \n",
        "                                                  'Math_Male', \n",
        "                                                  'Reading_Female', \n",
        "                                                  'Reading_Male', \n",
        "                                                  'Science_Female', \n",
        "                                                  'Science_Male'])"
      ],
      "execution_count": null,
      "outputs": []
    },
    {
      "cell_type": "code",
      "metadata": {
        "id": "4Bte09QEpMwH"
      },
      "source": [
        "#reduced_test_scores.head()"
      ],
      "execution_count": null,
      "outputs": []
    },
    {
      "cell_type": "code",
      "metadata": {
        "id": "AKsGnBzdpMwH"
      },
      "source": [
        "#len(reduced_test_scores)"
      ],
      "execution_count": null,
      "outputs": []
    },
    {
      "cell_type": "code",
      "metadata": {
        "colab": {
          "base_uri": "https://localhost:8080/"
        },
        "id": "ljD6lPwKpMwH",
        "outputId": "575d9220-c9f6-4bd8-eacb-4062f159978b"
      },
      "source": [
        "from sklearn.linear_model import Ridge\n",
        "from sklearn.model_selection import train_test_split\n",
        "np.random.seed(42)\n",
        "\n",
        "x = reduced_test_scores.drop(columns = [\"Country Name\", \"Science_All\"])\n",
        "y = reduced_test_scores[\"Science_All\"]\n",
        "x_train, x_test, y_train, y_test = train_test_split(x, y, test_size=0.2)\n",
        "\n",
        "model = Ridge()\n",
        "model.fit(x_train, y_train)\n",
        "#model.score(x_test, y_test)"
      ],
      "execution_count": null,
      "outputs": [
        {
          "output_type": "execute_result",
          "data": {
            "text/plain": [
              "Ridge(alpha=1.0, copy_X=True, fit_intercept=True, max_iter=None,\n",
              "      normalize=False, random_state=None, solver='auto', tol=0.001)"
            ]
          },
          "metadata": {
            "tags": []
          },
          "execution_count": 136
        }
      ]
    },
    {
      "cell_type": "code",
      "metadata": {
        "id": "wgkJEq1opMwI"
      },
      "source": [
        "import pickle"
      ],
      "execution_count": null,
      "outputs": []
    },
    {
      "cell_type": "code",
      "metadata": {
        "id": "1TRI8ZfHpMwI"
      },
      "source": [
        "pickle.dump(model, open(\"ridge_model_1.pkl\", \"wb\"))"
      ],
      "execution_count": null,
      "outputs": []
    },
    {
      "cell_type": "code",
      "metadata": {
        "id": "IvOp_TuYpMwI"
      },
      "source": [
        "loaded_model= pickle.load(open(\"ridge_model_1.pkl\", \"rb\"))"
      ],
      "execution_count": null,
      "outputs": []
    },
    {
      "cell_type": "code",
      "metadata": {
        "id": "r1G7BeSUpMwI"
      },
      "source": [
        "#loaded_model.score(x_test, y_test)"
      ],
      "execution_count": null,
      "outputs": []
    },
    {
      "cell_type": "code",
      "metadata": {
        "id": "Z848P9VhpMwJ"
      },
      "source": [
        "# Load and clean the 2018 data to test the model"
      ],
      "execution_count": null,
      "outputs": []
    },
    {
      "cell_type": "code",
      "metadata": {
        "id": "4tFfgjLApMwJ"
      },
      "source": [
        "url = 'https://raw.githubusercontent.com/trent5076/capstone/main/Pisa%20mean%20performance%20scores%202018.csv'\r\n",
        "new_test_scores = pd.read_csv(url)"
      ],
      "execution_count": null,
      "outputs": []
    },
    {
      "cell_type": "code",
      "metadata": {
        "id": "HKwj9oH1pMwJ"
      },
      "source": [
        "## Add a series code to be consistent with the other data frame"
      ],
      "execution_count": null,
      "outputs": []
    },
    {
      "cell_type": "code",
      "metadata": {
        "id": "cELKWeHypMwJ"
      },
      "source": [
        "new_test_scores['Series_code'] = np.where((new_test_scores[\"INDICATOR\"] == \"PISAREAD\") & (new_test_scores[\"SUBJECT\"] == \"BOY\"), \"Reading_Male\", 0)"
      ],
      "execution_count": null,
      "outputs": []
    },
    {
      "cell_type": "code",
      "metadata": {
        "id": "5Xfxk6O8pMwK"
      },
      "source": [
        "new_test_scores['Series_code'] = np.where((new_test_scores[\"INDICATOR\"] == \"PISAREAD\") & (new_test_scores[\"SUBJECT\"] == \"GIRL\"), \"Reading_Female\", 0)"
      ],
      "execution_count": null,
      "outputs": []
    },
    {
      "cell_type": "code",
      "metadata": {
        "colab": {
          "base_uri": "https://localhost:8080/"
        },
        "id": "NZ0T6nGupMwK",
        "outputId": "162d3df2-73c2-4017-cd5f-24cb7c49a82a"
      },
      "source": [
        "mask = (new_test_scores['INDICATOR'] == 'PISAREAD') & (new_test_scores['SUBJECT'] == 'BOY')\n",
        "new_test_scores['Series_code'][mask] = 'Reading_Male'"
      ],
      "execution_count": null,
      "outputs": [
        {
          "output_type": "stream",
          "text": [
            "/usr/local/lib/python3.6/dist-packages/ipykernel_launcher.py:2: SettingWithCopyWarning: \n",
            "A value is trying to be set on a copy of a slice from a DataFrame\n",
            "\n",
            "See the caveats in the documentation: https://pandas.pydata.org/pandas-docs/stable/user_guide/indexing.html#returning-a-view-versus-a-copy\n",
            "  \n"
          ],
          "name": "stderr"
        }
      ]
    },
    {
      "cell_type": "code",
      "metadata": {
        "colab": {
          "base_uri": "https://localhost:8080/"
        },
        "id": "vkaRZRvtpMwK",
        "outputId": "4269d8fd-3d66-4894-9a74-9ecd26049b8a"
      },
      "source": [
        "mask = (new_test_scores['INDICATOR'] == 'PISAREAD') & (new_test_scores['SUBJECT'] == 'TOT')\n",
        "new_test_scores['Series_code'][mask] = 'Reading_All'"
      ],
      "execution_count": null,
      "outputs": [
        {
          "output_type": "stream",
          "text": [
            "/usr/local/lib/python3.6/dist-packages/ipykernel_launcher.py:2: SettingWithCopyWarning: \n",
            "A value is trying to be set on a copy of a slice from a DataFrame\n",
            "\n",
            "See the caveats in the documentation: https://pandas.pydata.org/pandas-docs/stable/user_guide/indexing.html#returning-a-view-versus-a-copy\n",
            "  \n"
          ],
          "name": "stderr"
        }
      ]
    },
    {
      "cell_type": "code",
      "metadata": {
        "colab": {
          "base_uri": "https://localhost:8080/"
        },
        "id": "lFZi8eABpMwL",
        "outputId": "688ef324-1a8e-4cab-9e2b-c503cb7926ac"
      },
      "source": [
        "mask = (new_test_scores['INDICATOR'] == 'PISAMATH') & (new_test_scores['SUBJECT'] == 'BOY')\n",
        "new_test_scores['Series_code'][mask] = 'Math_Male'"
      ],
      "execution_count": null,
      "outputs": [
        {
          "output_type": "stream",
          "text": [
            "/usr/local/lib/python3.6/dist-packages/ipykernel_launcher.py:2: SettingWithCopyWarning: \n",
            "A value is trying to be set on a copy of a slice from a DataFrame\n",
            "\n",
            "See the caveats in the documentation: https://pandas.pydata.org/pandas-docs/stable/user_guide/indexing.html#returning-a-view-versus-a-copy\n",
            "  \n"
          ],
          "name": "stderr"
        }
      ]
    },
    {
      "cell_type": "code",
      "metadata": {
        "colab": {
          "base_uri": "https://localhost:8080/"
        },
        "id": "Dqwuc69npMwL",
        "outputId": "0af2ff05-8ebc-42ed-d066-ed6b0b7e1715"
      },
      "source": [
        "mask = (new_test_scores['INDICATOR'] == 'PISAMATH') & (new_test_scores['SUBJECT'] == 'GIRL')\n",
        "new_test_scores['Series_code'][mask] = 'Math_Female'"
      ],
      "execution_count": null,
      "outputs": [
        {
          "output_type": "stream",
          "text": [
            "/usr/local/lib/python3.6/dist-packages/ipykernel_launcher.py:2: SettingWithCopyWarning: \n",
            "A value is trying to be set on a copy of a slice from a DataFrame\n",
            "\n",
            "See the caveats in the documentation: https://pandas.pydata.org/pandas-docs/stable/user_guide/indexing.html#returning-a-view-versus-a-copy\n",
            "  \n"
          ],
          "name": "stderr"
        }
      ]
    },
    {
      "cell_type": "code",
      "metadata": {
        "colab": {
          "base_uri": "https://localhost:8080/"
        },
        "id": "LeeIFRvWpMwL",
        "outputId": "4bf5de52-e203-4c9e-99b2-ec9183779bff"
      },
      "source": [
        "mask = (new_test_scores['INDICATOR'] == 'PISAMATH') & (new_test_scores['SUBJECT'] == 'TOT')\n",
        "new_test_scores['Series_code'][mask] = 'Math_All'"
      ],
      "execution_count": null,
      "outputs": [
        {
          "output_type": "stream",
          "text": [
            "/usr/local/lib/python3.6/dist-packages/ipykernel_launcher.py:2: SettingWithCopyWarning: \n",
            "A value is trying to be set on a copy of a slice from a DataFrame\n",
            "\n",
            "See the caveats in the documentation: https://pandas.pydata.org/pandas-docs/stable/user_guide/indexing.html#returning-a-view-versus-a-copy\n",
            "  \n"
          ],
          "name": "stderr"
        }
      ]
    },
    {
      "cell_type": "code",
      "metadata": {
        "colab": {
          "base_uri": "https://localhost:8080/"
        },
        "id": "GylCdT19pMwM",
        "outputId": "7dfad7b3-d93c-4de3-dc92-f746305efa19"
      },
      "source": [
        "mask = (new_test_scores['INDICATOR'] == 'PISASCIENCE') & (new_test_scores['SUBJECT'] == 'BOY')\n",
        "new_test_scores['Series_code'][mask] = 'Science_Male'"
      ],
      "execution_count": null,
      "outputs": [
        {
          "output_type": "stream",
          "text": [
            "/usr/local/lib/python3.6/dist-packages/ipykernel_launcher.py:2: SettingWithCopyWarning: \n",
            "A value is trying to be set on a copy of a slice from a DataFrame\n",
            "\n",
            "See the caveats in the documentation: https://pandas.pydata.org/pandas-docs/stable/user_guide/indexing.html#returning-a-view-versus-a-copy\n",
            "  \n"
          ],
          "name": "stderr"
        }
      ]
    },
    {
      "cell_type": "code",
      "metadata": {
        "colab": {
          "base_uri": "https://localhost:8080/"
        },
        "id": "GPwGsE5zpMwM",
        "outputId": "eb79d9b7-128e-4ccc-c511-7c73eab58ddd"
      },
      "source": [
        "mask = (new_test_scores['INDICATOR'] == 'PISASCIENCE') & (new_test_scores['SUBJECT'] == 'GIRL')\n",
        "new_test_scores['Series_code'][mask] = 'Science_Female'"
      ],
      "execution_count": null,
      "outputs": [
        {
          "output_type": "stream",
          "text": [
            "/usr/local/lib/python3.6/dist-packages/ipykernel_launcher.py:2: SettingWithCopyWarning: \n",
            "A value is trying to be set on a copy of a slice from a DataFrame\n",
            "\n",
            "See the caveats in the documentation: https://pandas.pydata.org/pandas-docs/stable/user_guide/indexing.html#returning-a-view-versus-a-copy\n",
            "  \n"
          ],
          "name": "stderr"
        }
      ]
    },
    {
      "cell_type": "code",
      "metadata": {
        "colab": {
          "base_uri": "https://localhost:8080/"
        },
        "id": "KIwIz5VApMwM",
        "outputId": "8f813ce4-173b-4628-921b-bc63614c600e"
      },
      "source": [
        "mask = (new_test_scores['INDICATOR'] == 'PISASCIENCE') & (new_test_scores['SUBJECT'] == 'TOT')\n",
        "new_test_scores['Series_code'][mask] = 'Science_All'"
      ],
      "execution_count": null,
      "outputs": [
        {
          "output_type": "stream",
          "text": [
            "/usr/local/lib/python3.6/dist-packages/ipykernel_launcher.py:2: SettingWithCopyWarning: \n",
            "A value is trying to be set on a copy of a slice from a DataFrame\n",
            "\n",
            "See the caveats in the documentation: https://pandas.pydata.org/pandas-docs/stable/user_guide/indexing.html#returning-a-view-versus-a-copy\n",
            "  \n"
          ],
          "name": "stderr"
        }
      ]
    },
    {
      "cell_type": "code",
      "metadata": {
        "id": "e61LMTnXpMwN"
      },
      "source": [
        "## Get rid of extra columns"
      ],
      "execution_count": null,
      "outputs": []
    },
    {
      "cell_type": "code",
      "metadata": {
        "id": "FBKyyb6tpMwN"
      },
      "source": [
        "new_test_scores = new_test_scores.drop(columns=['INDICATOR', 'SUBJECT', 'MEASURE', 'FREQUENCY'])"
      ],
      "execution_count": null,
      "outputs": []
    },
    {
      "cell_type": "code",
      "metadata": {
        "id": "6GH_yYYSpMwN"
      },
      "source": [
        "## Pivot the table to match format of other data frame"
      ],
      "execution_count": null,
      "outputs": []
    },
    {
      "cell_type": "code",
      "metadata": {
        "id": "BzXpk_vvpMwN"
      },
      "source": [
        "new_test_scores = new_test_scores.pivot(index='LOCATION', columns ='Series_code', values ='Value')"
      ],
      "execution_count": null,
      "outputs": []
    },
    {
      "cell_type": "code",
      "metadata": {
        "id": "36YZChXopMwN"
      },
      "source": [
        "#new_test_scores.head()"
      ],
      "execution_count": null,
      "outputs": []
    },
    {
      "cell_type": "code",
      "metadata": {
        "id": "J0-u1CIppMwN"
      },
      "source": [
        "## Drop countries with any empty values"
      ],
      "execution_count": null,
      "outputs": []
    },
    {
      "cell_type": "code",
      "metadata": {
        "id": "Hp0p095jpMwN"
      },
      "source": [
        "new_test_scores = new_test_scores.dropna()"
      ],
      "execution_count": null,
      "outputs": []
    },
    {
      "cell_type": "code",
      "metadata": {
        "id": "LflAVTHzpMwO"
      },
      "source": [
        "new_test_scores = new_test_scores.reset_index()"
      ],
      "execution_count": null,
      "outputs": []
    },
    {
      "cell_type": "code",
      "metadata": {
        "id": "sKCIGOvIpMwO"
      },
      "source": [
        "reduced_new_test_scores = new_test_scores.drop(columns=['Math_Female',\n",
        "                                                      'Math_Male',\n",
        "                                                      'Reading_Female',\n",
        "                                                      'Reading_Male',\n",
        "                                                      'Science_Female',\n",
        "                                                      'Science_Male'])"
      ],
      "execution_count": null,
      "outputs": []
    },
    {
      "cell_type": "code",
      "metadata": {
        "id": "ckoOSumtpMwO"
      },
      "source": [
        "## Test the model trained on 2015 data against the 2018 data"
      ],
      "execution_count": null,
      "outputs": []
    },
    {
      "cell_type": "code",
      "metadata": {
        "id": "ZB8a8YFqpMwO"
      },
      "source": [
        "np.random.seed(42)\n",
        "\n",
        "p = reduced_new_test_scores.drop(columns = [\"LOCATION\", \"Science_All\"])\n",
        "q = reduced_new_test_scores[\"Science_All\"]\n",
        "\n",
        "\n",
        "#model.score(p, q)"
      ],
      "execution_count": null,
      "outputs": []
    },
    {
      "cell_type": "code",
      "metadata": {
        "id": "XrIvIHWmpMwP"
      },
      "source": [
        "y_preds = model.predict(p)"
      ],
      "execution_count": null,
      "outputs": []
    },
    {
      "cell_type": "code",
      "metadata": {
        "id": "jDcKq-fIpMwP"
      },
      "source": [
        "from sklearn.metrics import mean_absolute_error\n",
        "#mean_absolute_error(q, y_preds)"
      ],
      "execution_count": null,
      "outputs": []
    },
    {
      "cell_type": "code",
      "metadata": {
        "id": "AjtTu3iMpMwP"
      },
      "source": [
        "#model.score(p, q)"
      ],
      "execution_count": null,
      "outputs": []
    },
    {
      "cell_type": "code",
      "metadata": {
        "id": "d-MrptEmpMwP"
      },
      "source": [
        "## Let's examine correlation for the descriptive element of this project"
      ],
      "execution_count": null,
      "outputs": []
    },
    {
      "cell_type": "code",
      "metadata": {
        "id": "M2Q3qZsFpMwP"
      },
      "source": [
        "#test_scores"
      ],
      "execution_count": null,
      "outputs": []
    },
    {
      "cell_type": "code",
      "metadata": {
        "id": "oV2036QEpMwP"
      },
      "source": [
        "#test_scores.corr()"
      ],
      "execution_count": null,
      "outputs": []
    },
    {
      "cell_type": "code",
      "metadata": {
        "id": "oZ4JWShCpMwQ"
      },
      "source": [
        "import matplotlib.pyplot as plt\n",
        "\n",
        "#plt.matshow(test_scores.corr())\n",
        "#plt.show()"
      ],
      "execution_count": null,
      "outputs": []
    },
    {
      "cell_type": "code",
      "metadata": {
        "id": "fgAmzA7QpMwQ"
      },
      "source": [
        "#reduced_test_scores.corr()"
      ],
      "execution_count": null,
      "outputs": []
    },
    {
      "cell_type": "code",
      "metadata": {
        "id": "UWMNcGnlpMwQ"
      },
      "source": [
        "#reduced_new_test_scores.corr()"
      ],
      "execution_count": null,
      "outputs": []
    },
    {
      "cell_type": "code",
      "metadata": {
        "id": "z4v-mHaTpMwQ"
      },
      "source": [
        "from ipywidgets import HBox, VBox, IntSlider, interactive_output\n",
        "from IPython.display import display\n",
        "\n",
        "a = IntSlider()\n",
        "b = IntSlider()\n",
        "\n",
        "def f(a, b):\n",
        "    print(\"{} * {} = {}\".format(a, b, a * b))\n",
        "\n",
        "out = interactive_output(f, { \"a\": a, \"b\": b })\n",
        "\n",
        "#display(HBox([VBox([a, b]), out]))"
      ],
      "execution_count": null,
      "outputs": []
    },
    {
      "cell_type": "code",
      "metadata": {
        "id": "U11XKc9IpMwQ"
      },
      "source": [
        "import ipywidgets as widgets\n",
        "from ipywidgets import interact, interactive, fixed, interact_manual"
      ],
      "execution_count": null,
      "outputs": []
    },
    {
      "cell_type": "markdown",
      "metadata": {
        "id": "RtfaWAgYpMwQ"
      },
      "source": [
        "# Use these sliders to predict a student's science test score based on their math and reading test scores.\n"
      ]
    },
    {
      "cell_type": "markdown",
      "metadata": {
        "id": "22qdafR6pMwR"
      },
      "source": [
        "## All students"
      ]
    },
    {
      "cell_type": "code",
      "metadata": {
        "colab": {
          "base_uri": "https://localhost:8080/",
          "height": 81,
          "referenced_widgets": [
            "d1a2d788cc89412baa3bad1ec9cf406d",
            "446573fbfc4d48c5a5bac28d852df475",
            "3a77b3334c6b4b8190c0e88d7ddf35a5",
            "f3cb6b69c3864b62b5f4dac8db7ba2b4",
            "84dd90f56858484ab95e3074db8adba9",
            "c07b023f276f4bdba1166f25cd51abc7",
            "541fe91289a345318d0220016d961a02",
            "707364926fb8467ca050820d1653062d",
            "13d4513a7c694f559d39d0a129bf73f1",
            "ea92e8e699494de3881af83636c2cce3",
            "699ec1ad28184567a6b0ea4fddd4183a",
            "510449df8d654880ae4803e8a5c9d126"
          ]
        },
        "id": "zIgUenZDpMwR",
        "outputId": "c06a6b9b-9cde-4e84-a9d5-b079a26feb69"
      },
      "source": [
        "a = widgets.IntSlider(min=300, max=600, description='Math:   ')\n",
        "b = widgets.IntSlider(min=300, max=600, description='Reading:   ')\n",
        "\n",
        "def f(a, b,):\n",
        "    widget_array = [[a, b]]\n",
        "    widget_frame = pd.DataFrame(widget_array)\n",
        "    print('Predicted Science Score: ', loaded_model.predict(widget_frame))\n",
        "\n",
        "out = widgets.interactive_output(f, {'a': a, 'b': b})\n",
        "\n",
        "widgets.HBox([widgets.VBox([a, b]), out])"
      ],
      "execution_count": null,
      "outputs": [
        {
          "output_type": "display_data",
          "data": {
            "application/vnd.jupyter.widget-view+json": {
              "model_id": "d1a2d788cc89412baa3bad1ec9cf406d",
              "version_minor": 0,
              "version_major": 2
            },
            "text/plain": [
              "HBox(children=(VBox(children=(IntSlider(value=300, description='Math:   ', max=600, min=300), IntSlider(value=…"
            ]
          },
          "metadata": {
            "tags": []
          }
        }
      ]
    },
    {
      "cell_type": "code",
      "metadata": {
        "id": "BTTo9BHDpMwR"
      },
      "source": [
        "female_test_scores = test_scores.drop(columns=['Country Name',\n",
        "                                              'Math_All',\n",
        "                                              'Math_Male',\n",
        "                                              'Reading_All',\n",
        "                                              'Reading_Male',\n",
        "                                              'Science_All',\n",
        "                                              'Science_Male'])"
      ],
      "execution_count": null,
      "outputs": []
    },
    {
      "cell_type": "code",
      "metadata": {
        "colab": {
          "base_uri": "https://localhost:8080/"
        },
        "id": "szYrZDBQpMwR",
        "outputId": "1ec092d0-7ee0-4b6a-801b-2f1079b802b0"
      },
      "source": [
        "np.random.seed(42)\n",
        "\n",
        "x = female_test_scores.drop(columns = [\"Science_Female\"])\n",
        "y = female_test_scores[\"Science_Female\"]\n",
        "x_train, x_test, y_train, y_test = train_test_split(x, y, test_size=0.2)\n",
        "\n",
        "female_model = Ridge()\n",
        "female_model.fit(x_train, y_train)\n",
        "#female_model.score(x_test, y_test)"
      ],
      "execution_count": null,
      "outputs": [
        {
          "output_type": "execute_result",
          "data": {
            "text/plain": [
              "Ridge(alpha=1.0, copy_X=True, fit_intercept=True, max_iter=None,\n",
              "      normalize=False, random_state=None, solver='auto', tol=0.001)"
            ]
          },
          "metadata": {
            "tags": []
          },
          "execution_count": 178
        }
      ]
    },
    {
      "cell_type": "code",
      "metadata": {
        "id": "g1t7NAvupMwR"
      },
      "source": [
        "male_test_scores = test_scores.drop(columns=['Country Name',\n",
        "                                              'Math_All',\n",
        "                                              'Math_Female',\n",
        "                                              'Reading_All',\n",
        "                                              'Reading_Female',\n",
        "                                              'Science_All',\n",
        "                                              'Science_Female'])"
      ],
      "execution_count": null,
      "outputs": []
    },
    {
      "cell_type": "code",
      "metadata": {
        "colab": {
          "base_uri": "https://localhost:8080/"
        },
        "id": "LBaezsgypMwS",
        "outputId": "f7f1ac01-bf0b-4ce1-fcd5-fb763dfa159c"
      },
      "source": [
        "np.random.seed(42)\n",
        "\n",
        "x = male_test_scores.drop(columns = [\"Science_Male\"])\n",
        "y = male_test_scores[\"Science_Male\"]\n",
        "x_train, x_test, y_train, y_test = train_test_split(x, y, test_size=0.2)\n",
        "\n",
        "male_model = Ridge()\n",
        "male_model.fit(x_train, y_train)\n",
        "#male_model.score(x_test, y_test)"
      ],
      "execution_count": null,
      "outputs": [
        {
          "output_type": "execute_result",
          "data": {
            "text/plain": [
              "Ridge(alpha=1.0, copy_X=True, fit_intercept=True, max_iter=None,\n",
              "      normalize=False, random_state=None, solver='auto', tol=0.001)"
            ]
          },
          "metadata": {
            "tags": []
          },
          "execution_count": 180
        }
      ]
    },
    {
      "cell_type": "markdown",
      "metadata": {
        "id": "7rGwb4gQpMwS"
      },
      "source": [
        "### Female students"
      ]
    },
    {
      "cell_type": "code",
      "metadata": {
        "colab": {
          "base_uri": "https://localhost:8080/",
          "referenced_widgets": [
            "38c9273bf7aa4924aeb1dadb227cb8e5",
            "125675f5150c4b90a45c931db7a9d4ad",
            "cf268d78009641b29767ae2c5dec6b0f",
            "59af192f996443c6b0e7240a9637c34b",
            "b7aae25657db4757bfe8b74c088bb409",
            "b78b2603ee34455981e1b6ad4943a96f",
            "854a3ff24d154e0cad900fb5a9761386",
            "765768a9343340beb47a50a120f651f0",
            "37b04858156d45938c660b3c30c72010",
            "cfc2b1b47a4040cd9fce4e30c0aa376a",
            "5b06de75cd92457ca91e6b95a9e52142",
            "037c3300154c4254b0fe3bce880105f6"
          ]
        },
        "id": "qKTNBwJvpMwS",
        "outputId": "d9fa00b0-26eb-4571-c964-822cb5073965"
      },
      "source": [
        "a2 = widgets.IntSlider(min=300, max=600, description='Math:   ')\n",
        "b2 = widgets.IntSlider(min=300, max=600, description='Reading:   ')\n",
        "\n",
        "def f(a2, b2,):\n",
        "    widget_array = [[a2, b2]]\n",
        "    widget_frame = pd.DataFrame(widget_array)\n",
        "    print('Predicted Female Science Score: ', female_model.predict(widget_frame))\n",
        "\n",
        "out = widgets.interactive_output(f, {'a2': a2, 'b2': b2})\n",
        "\n",
        "widgets.HBox([widgets.VBox([a2, b2]), out])"
      ],
      "execution_count": null,
      "outputs": [
        {
          "output_type": "display_data",
          "data": {
            "application/vnd.jupyter.widget-view+json": {
              "model_id": "38c9273bf7aa4924aeb1dadb227cb8e5",
              "version_minor": 0,
              "version_major": 2
            },
            "text/plain": [
              "HBox(children=(VBox(children=(IntSlider(value=300, description='Math:   ', max=600, min=300), IntSlider(value=…"
            ]
          },
          "metadata": {
            "tags": []
          }
        }
      ]
    },
    {
      "cell_type": "markdown",
      "metadata": {
        "id": "O4kbtDIMpMwS"
      },
      "source": [
        "### Male students"
      ]
    },
    {
      "cell_type": "code",
      "metadata": {
        "colab": {
          "base_uri": "https://localhost:8080/",
          "referenced_widgets": [
            "ee54634f17be489988c0592eeaa79330",
            "e241067ce14046bb9b71960bcb9c2760",
            "2a9a81a668a546159120c332c6b5e715",
            "607f2be7a42846bbaeb93a00e5a67176",
            "037c3fd0dd2948a2897faa5e20469bb6",
            "e50e872721d14d30a33d7c3be38809fb",
            "8a86994ce26d446796d7ff2406daed48",
            "fec13bf9acfd48c88f00873d313e1780",
            "7125a1822b274ebc9b9d398bdb444623",
            "17ca04b2106d43779371ec820c53237b",
            "053e138f2d0242e29178de708346ffb3",
            "c5a226474c6e4e4e906d62345247bd9e"
          ]
        },
        "id": "5GPzc6xnpMwS",
        "outputId": "9e9fb229-3786-4ea7-b7e4-2f42b0492607"
      },
      "source": [
        "a3 = widgets.IntSlider(min=300, max=600, description='Math:   ')\n",
        "b3 = widgets.IntSlider(min=300, max=600, description='Reading:   ')\n",
        "\n",
        "def f(a3, b3,):\n",
        "    widget_array = [[a3, b3]]\n",
        "    widget_frame = pd.DataFrame(widget_array)\n",
        "    print('Predicted Male Science Score: ', male_model.predict(widget_frame))\n",
        "\n",
        "out = widgets.interactive_output(f, {'a3': a3, 'b3': b3})\n",
        "\n",
        "widgets.HBox([widgets.VBox([a3, b3]), out])"
      ],
      "execution_count": null,
      "outputs": [
        {
          "output_type": "display_data",
          "data": {
            "application/vnd.jupyter.widget-view+json": {
              "model_id": "ee54634f17be489988c0592eeaa79330",
              "version_minor": 0,
              "version_major": 2
            },
            "text/plain": [
              "HBox(children=(VBox(children=(IntSlider(value=300, description='Math:   ', max=600, min=300), IntSlider(value=…"
            ]
          },
          "metadata": {
            "tags": []
          }
        }
      ]
    },
    {
      "cell_type": "markdown",
      "metadata": {
        "id": "jEozvFnHpMwT"
      },
      "source": [
        "## Correlation between different test scores for female students"
      ]
    },
    {
      "cell_type": "code",
      "metadata": {
        "colab": {
          "base_uri": "https://localhost:8080/"
        },
        "id": "CPmPqGofpMwT",
        "outputId": "e3336de7-44c8-486e-aae5-9d1c3fbd0331"
      },
      "source": [
        "import seaborn as sn\n",
        "import matplotlib.pyplot as plt\n",
        "\n",
        "corrFemale = female_test_scores.corr()\n",
        "sn.heatmap(corrFemale, annot=True)\n",
        "plt.show()"
      ],
      "execution_count": null,
      "outputs": [
        {
          "output_type": "display_data",
          "data": {
            "image/png": "[encoded data removed]",
            "text/plain": [
              "<Figure size 432x288 with 2 Axes>"
            ]
          },
          "metadata": {
            "tags": [],
            "needs_background": "light"
          }
        }
      ]
    },
    {
      "cell_type": "markdown",
      "metadata": {
        "id": "GwiAlrSupMwT"
      },
      "source": [
        "## Correlation between different test scores for male students"
      ]
    },
    {
      "cell_type": "code",
      "metadata": {
        "colab": {
          "base_uri": "https://localhost:8080/"
        },
        "id": "B3eRLb1qpMwT",
        "outputId": "d2997a84-8202-4dfc-845a-017a86af4017"
      },
      "source": [
        "corrMale = male_test_scores.corr()\n",
        "sn.heatmap(corrMale, annot=True)\n",
        "plt.show()"
      ],
      "execution_count": null,
      "outputs": [
        {
          "output_type": "display_data",
          "data": {
            "image/png": "[encoded data removed]",
            "text/plain": [
              "<Figure size 432x288 with 2 Axes>"
            ]
          },
          "metadata": {
            "tags": [],
            "needs_background": "light"
          }
        }
      ]
    },
    {
      "cell_type": "markdown",
      "metadata": {
        "id": "A5LA83wppMwU"
      },
      "source": [
        "## Correlation between different test scores for all students"
      ]
    },
    {
      "cell_type": "code",
      "metadata": {
        "colab": {
          "base_uri": "https://localhost:8080/"
        },
        "id": "vpWT9jKTpMwU",
        "outputId": "ed03870a-7a2a-4795-b943-626df69f522a"
      },
      "source": [
        "corrAll = reduced_test_scores.corr()\n",
        "sn.heatmap(corrAll, annot=True)\n",
        "plt.show()"
      ],
      "execution_count": null,
      "outputs": [
        {
          "output_type": "display_data",
          "data": {
            "image/png": "[encoded data removed]",
            "text/plain": [
              "<Figure size 432x288 with 2 Axes>"
            ]
          },
          "metadata": {
            "tags": [],
            "needs_background": "light"
          }
        }
      ]
    },
    {
      "cell_type": "code",
      "metadata": {
        "id": "GBL5Uri0pMwU"
      },
      "source": [
        "#corrMale"
      ],
      "execution_count": null,
      "outputs": []
    },
    {
      "cell_type": "code",
      "metadata": {
        "id": "IZAoBQyTpMwU"
      },
      "source": [
        "corrMaleColumns = []\n",
        "for col in corrMale.columns:\n",
        "    corrMaleColumns.append(col)\n",
        "corrMaleIndexes = []\n",
        "for ind in corrMale.index:\n",
        "    corrMaleIndexes.append(ind)"
      ],
      "execution_count": null,
      "outputs": []
    },
    {
      "cell_type": "code",
      "metadata": {
        "id": "q2yDE7xxpMwU"
      },
      "source": [
        "corrMaleLabels = []\n",
        "for col in corrMaleColumns:\n",
        "    for ind in corrMaleIndexes:\n",
        "        if col != ind:\n",
        "            newLabel = \"{} x {}\".format(col, ind)\n",
        "            corrMaleLabels.append(newLabel)"
      ],
      "execution_count": null,
      "outputs": []
    },
    {
      "cell_type": "code",
      "metadata": {
        "id": "vjRWJY93pMwV"
      },
      "source": [
        "#corrMaleLabels"
      ],
      "execution_count": null,
      "outputs": []
    },
    {
      "cell_type": "code",
      "metadata": {
        "id": "QA_o0OmPpMwV"
      },
      "source": [
        "#for label in corrMaleLabels:\n",
        "   # print(label.split(' x '))\n",
        "    "
      ],
      "execution_count": null,
      "outputs": []
    },
    {
      "cell_type": "code",
      "metadata": {
        "id": "8jPBBAYNpMwV"
      },
      "source": [
        "splitCorrMaleLabels = []\n",
        "for label in corrMaleLabels:\n",
        "    item = label.split(' x ')\n",
        "    splitCorrMaleLabels.append(item)\n",
        "    "
      ],
      "execution_count": null,
      "outputs": []
    },
    {
      "cell_type": "code",
      "metadata": {
        "id": "pB_C5YocpMwV"
      },
      "source": [
        "#splitCorrMaleLabels"
      ],
      "execution_count": null,
      "outputs": []
    },
    {
      "cell_type": "code",
      "metadata": {
        "id": "w77FMnB5pMwV"
      },
      "source": [
        "newList = []\n",
        "for q in splitCorrMaleLabels:\n",
        "    khsdf = q[::-1]\n",
        "    newList.append(khsdf)"
      ],
      "execution_count": null,
      "outputs": []
    },
    {
      "cell_type": "code",
      "metadata": {
        "id": "B73Dej0OpMwV"
      },
      "source": [
        "#newList"
      ],
      "execution_count": null,
      "outputs": []
    },
    {
      "cell_type": "code",
      "metadata": {
        "id": "ubZgrypvpMwW"
      },
      "source": [
        "#splitCorrMaleLabels"
      ],
      "execution_count": null,
      "outputs": []
    },
    {
      "cell_type": "code",
      "metadata": {
        "id": "YLsmvWCtpMwW"
      },
      "source": [
        "temp_list = []\n",
        "for q in newList:\n",
        "    r = []\n",
        "    r.append(q[1])\n",
        "    r.append(q[0])\n",
        "    #print(r)\n",
        "    if (q not in temp_list) & (r not in temp_list):\n",
        "        temp_list.append(q)"
      ],
      "execution_count": null,
      "outputs": []
    },
    {
      "cell_type": "code",
      "metadata": {
        "id": "bYhzq0SgpMwW"
      },
      "source": [
        "#temp_list"
      ],
      "execution_count": null,
      "outputs": []
    },
    {
      "cell_type": "code",
      "metadata": {
        "id": "e-fkifoTpMwW"
      },
      "source": [
        "corrMaleLabels.clear()\n",
        "for q in temp_list:\n",
        "    newItem = \"{} x {}\".format(q[0], q[1])\n",
        "    corrMaleLabels.append(newItem)\n",
        "    "
      ],
      "execution_count": null,
      "outputs": []
    },
    {
      "cell_type": "code",
      "metadata": {
        "id": "2-bpb9E8pMwW"
      },
      "source": [
        "#corrMaleLabels"
      ],
      "execution_count": null,
      "outputs": []
    },
    {
      "cell_type": "code",
      "metadata": {
        "id": "oWTX0wxLpMwW"
      },
      "source": [
        "#corrMale"
      ],
      "execution_count": null,
      "outputs": []
    },
    {
      "cell_type": "code",
      "metadata": {
        "scrolled": true,
        "id": "_xy3cN9npMwX"
      },
      "source": [
        "#corrMale.reset_index()"
      ],
      "execution_count": null,
      "outputs": []
    },
    {
      "cell_type": "code",
      "metadata": {
        "id": "Y1Y-lba8pMwX"
      },
      "source": [
        "corrMale = corrMale.rename_axis(None)"
      ],
      "execution_count": null,
      "outputs": []
    },
    {
      "cell_type": "code",
      "metadata": {
        "id": "ypqEwUR-pMwX"
      },
      "source": [
        "#corrMale"
      ],
      "execution_count": null,
      "outputs": []
    },
    {
      "cell_type": "code",
      "metadata": {
        "id": "1q7MtL6kpMwX"
      },
      "source": [
        "corrMaleFinalList = {}\n",
        "for q in corrMaleLabels:\n",
        "    r = q.split(' ')[0]\n",
        "    #print(r)\n",
        "    for col in corrMale.columns:\n",
        "        if r == col:\n",
        "            s = corrMale.columns.get_loc(r)\n",
        "            #print(s)\n",
        "    t = q.split(' ')[2]\n",
        "    #print(t)\n",
        "    for ind in corrMale.index:\n",
        "        if t == ind:\n",
        "            u = corrMale.index.get_loc(t)\n",
        "            v = corrMale.iloc[u, s]\n",
        "            \n",
        "            #print(u)\n",
        "    #print(q, corrMale.iloc[u, s])\n",
        "    \n",
        "    \n",
        "    corrMaleFinalList[q] = v\n",
        "    \n",
        "    "
      ],
      "execution_count": null,
      "outputs": []
    },
    {
      "cell_type": "code",
      "metadata": {
        "id": "uWxCkxqVpMwX"
      },
      "source": [
        "#corrMaleFinalList"
      ],
      "execution_count": null,
      "outputs": []
    },
    {
      "cell_type": "markdown",
      "metadata": {
        "id": "BK5GeEwDpMwX"
      },
      "source": [
        "## Correlation between different test scores for male students"
      ]
    },
    {
      "cell_type": "code",
      "metadata": {
        "colab": {
          "base_uri": "https://localhost:8080/"
        },
        "id": "GxCQG9mApMwX",
        "outputId": "269634c0-df0b-4ca2-e950-7d7930adcf6e"
      },
      "source": [
        "fig, ax = plt.subplots()\n",
        "ax.bar(corrMaleFinalList.keys(), height=corrMaleFinalList.values())\n",
        "plt.xticks(rotation=90)\n",
        "plt.ylim(bottom=0.90)\n",
        "plt.ylim(top=1)\n",
        "ax.set_ylabel('Value')\n",
        "ax.set_xlabel('Correlation')\n",
        "\n",
        "plt.show()"
      ],
      "execution_count": null,
      "outputs": [
        {
          "output_type": "display_data",
          "data": {
            "image/png": "[encoded data removed]",
            "text/plain": [
              "<Figure size 432x288 with 1 Axes>"
            ]
          },
          "metadata": {
            "tags": [],
            "needs_background": "light"
          }
        }
      ]
    },
    {
      "cell_type": "code",
      "metadata": {
        "id": "VZuO56UapMwY"
      },
      "source": [
        "corrFemaleColumns = []\n",
        "for col in corrFemale.columns:\n",
        "    corrFemaleColumns.append(col)\n",
        "corrFemaleIndexes = []\n",
        "for ind in corrFemale.index:\n",
        "    corrFemaleIndexes.append(ind)\n",
        "    \n",
        "corrFemaleLabels = []\n",
        "for col in corrFemaleColumns:\n",
        "    for ind in corrFemaleIndexes:\n",
        "        if col != ind:\n",
        "            newLabel = \"{} x {}\".format(col, ind)\n",
        "            corrFemaleLabels.append(newLabel)\n",
        "            \n",
        "splitCorrFemaleLabels = []\n",
        "for label in corrFemaleLabels:\n",
        "    item = label.split(' x ')\n",
        "    splitCorrFemaleLabels.append(item)\n",
        "    \n",
        "newList = []\n",
        "for q in splitCorrFemaleLabels:\n",
        "    khsdf = q[::-1]\n",
        "    newList.append(khsdf)\n",
        "    \n",
        "temp_list = []\n",
        "for q in newList:\n",
        "    r = []\n",
        "    r.append(q[1])\n",
        "    r.append(q[0])\n",
        "    #print(r)\n",
        "    if (q not in temp_list) & (r not in temp_list):\n",
        "        temp_list.append(q)\n",
        "        \n",
        "corrFemaleLabels.clear()\n",
        "for q in temp_list:\n",
        "    newItem = \"{} x {}\".format(q[0], q[1])\n",
        "    corrFemaleLabels.append(newItem)\n",
        "    \n",
        "\n",
        "corrFemale.reset_index()\n",
        "corrFemale = corrFemale.rename_axis(None)\n",
        "\n",
        "corrFemaleFinalList = {}\n",
        "for q in corrFemaleLabels:\n",
        "    r = q.split(' ')[0]\n",
        "    #print(r)\n",
        "    for col in corrFemale.columns:\n",
        "        if r == col:\n",
        "            s = corrFemale.columns.get_loc(r)\n",
        "            #print(s)\n",
        "    t = q.split(' ')[2]\n",
        "    #print(t)\n",
        "    for ind in corrFemale.index:\n",
        "        if t == ind:\n",
        "            u = corrFemale.index.get_loc(t)\n",
        "            v = corrFemale.iloc[u, s]\n",
        "            \n",
        "            #print(u)\n",
        "    #print(q, corrMale.iloc[u, s])\n",
        "    \n",
        "    \n",
        "    corrFemaleFinalList[q] = v\n",
        "    \n",
        "    "
      ],
      "execution_count": null,
      "outputs": []
    },
    {
      "cell_type": "code",
      "metadata": {
        "id": "X_7_nRvapMwY"
      },
      "source": [
        "#corrFemaleFinalList"
      ],
      "execution_count": null,
      "outputs": []
    },
    {
      "cell_type": "code",
      "metadata": {
        "id": "qYVcCQKKpMwY"
      },
      "source": [
        "#corrFemale"
      ],
      "execution_count": null,
      "outputs": []
    },
    {
      "cell_type": "markdown",
      "metadata": {
        "id": "0S_i9F7UpMwY"
      },
      "source": [
        "## Correlation between different test scores for female students"
      ]
    },
    {
      "cell_type": "code",
      "metadata": {
        "colab": {
          "base_uri": "https://localhost:8080/"
        },
        "id": "X6ZZh77spMwY",
        "outputId": "6dd0361e-a3d4-4d3c-8573-300818d7124e"
      },
      "source": [
        "fig, ax = plt.subplots()\n",
        "ax.bar(corrFemaleFinalList.keys(), height=corrFemaleFinalList.values())\n",
        "plt.xticks(rotation=90)\n",
        "plt.ylim(bottom=0.90)\n",
        "plt.ylim(top=1)\n",
        "ax.set_ylabel('Value')\n",
        "ax.set_xlabel('Correlation')\n",
        "\n",
        "plt.show()"
      ],
      "execution_count": null,
      "outputs": [
        {
          "output_type": "display_data",
          "data": {
            "image/png": "[encoded data removed]",
            "text/plain": [
              "<Figure size 432x288 with 1 Axes>"
            ]
          },
          "metadata": {
            "tags": [],
            "needs_background": "light"
          }
        }
      ]
    },
    {
      "cell_type": "code",
      "metadata": {
        "id": "l73UMDs1pMwY"
      },
      "source": [
        "corrAllColumns = []\n",
        "for col in corrAll.columns:\n",
        "    corrAllColumns.append(col)\n",
        "corrAllIndexes = []\n",
        "for ind in corrAll.index:\n",
        "    corrAllIndexes.append(ind)\n",
        "    \n",
        "corrAllLabels = []\n",
        "for col in corrAllColumns:\n",
        "    for ind in corrAllIndexes:\n",
        "        if col != ind:\n",
        "            newLabel = \"{} x {}\".format(col, ind)\n",
        "            corrAllLabels.append(newLabel)\n",
        "            \n",
        "splitCorrAllLabels = []\n",
        "for label in corrAllLabels:\n",
        "    item = label.split(' x ')\n",
        "    splitCorrAllLabels.append(item)\n",
        "    \n",
        "newList = []\n",
        "for q in splitCorrAllLabels:\n",
        "    khsdf = q[::-1]\n",
        "    newList.append(khsdf)\n",
        "    \n",
        "temp_list = []\n",
        "for q in newList:\n",
        "    r = []\n",
        "    r.append(q[1])\n",
        "    r.append(q[0])\n",
        "    #print(r)\n",
        "    if (q not in temp_list) & (r not in temp_list):\n",
        "        temp_list.append(q)\n",
        "        \n",
        "corrAllLabels.clear()\n",
        "for q in temp_list:\n",
        "    newItem = \"{} x {}\".format(q[0], q[1])\n",
        "    corrAllLabels.append(newItem)\n",
        "    \n",
        "\n",
        "corrAll.reset_index()\n",
        "corrAll = corrAll.rename_axis(None)\n",
        "\n",
        "corrAllFinalList = {}\n",
        "for q in corrAllLabels:\n",
        "    r = q.split(' ')[0]\n",
        "    #print(r)\n",
        "    for col in corrAll.columns:\n",
        "        if r == col:\n",
        "            s = corrAll.columns.get_loc(r)\n",
        "            #print(s)\n",
        "    t = q.split(' ')[2]\n",
        "    #print(t)\n",
        "    for ind in corrAll.index:\n",
        "        if t == ind:\n",
        "            u = corrAll.index.get_loc(t)\n",
        "            v = corrAll.iloc[u, s]\n",
        "            \n",
        "            #print(u)\n",
        "    #print(q, corrMale.iloc[u, s])\n",
        "    \n",
        "    \n",
        "    corrAllFinalList[q] = v\n",
        "    "
      ],
      "execution_count": null,
      "outputs": []
    },
    {
      "cell_type": "code",
      "metadata": {
        "id": "iSoDa5mHpMwZ"
      },
      "source": [
        "#corrAllFinalList"
      ],
      "execution_count": null,
      "outputs": []
    },
    {
      "cell_type": "code",
      "metadata": {
        "id": "qqhrwOQWpMwZ"
      },
      "source": [
        "#corrAll"
      ],
      "execution_count": null,
      "outputs": []
    },
    {
      "cell_type": "markdown",
      "metadata": {
        "id": "1kWX3ZFTpMwZ"
      },
      "source": [
        "## Correlation between test scores for all students"
      ]
    },
    {
      "cell_type": "code",
      "metadata": {
        "colab": {
          "base_uri": "https://localhost:8080/"
        },
        "id": "HrMHCNAipMwZ",
        "outputId": "4c0314b8-a1ec-4754-bcde-bc4106d7f3ab"
      },
      "source": [
        "fig, ax = plt.subplots()\n",
        "ax.bar(corrAllFinalList.keys(), height=corrAllFinalList.values())\n",
        "plt.xticks(rotation=90)\n",
        "plt.ylim(bottom=0.90)\n",
        "plt.ylim(top=1)\n",
        "ax.set_ylabel('Value')\n",
        "ax.set_xlabel('Correlation')\n",
        "\n",
        "plt.show()"
      ],
      "execution_count": null,
      "outputs": [
        {
          "output_type": "display_data",
          "data": {
            "image/png": "[encoded data removed]",
            "text/plain": [
              "<Figure size 432x288 with 1 Axes>"
            ]
          },
          "metadata": {
            "tags": [],
            "needs_background": "light"
          }
        }
      ]
    },
    {
      "cell_type": "markdown",
      "metadata": {
        "id": "hC9MwpUOpMwZ"
      },
      "source": [
        "# Report a problem! E-mail example AT nospam DOT COM"
      ]
    }
  ]
}